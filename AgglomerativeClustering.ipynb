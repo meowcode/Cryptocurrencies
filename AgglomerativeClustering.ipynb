{
 "cells": [
  {
   "cell_type": "code",
   "execution_count": 14,
   "id": "a1c4b689",
   "metadata": {},
   "outputs": [],
   "source": [
    "import pandas as pd\n",
    "from sklearn.preprocessing import StandardScaler\n",
    "from sklearn.decomposition import PCA\n",
    "from sklearn.cluster import AgglomerativeClustering\n",
    "import hvplot.pandas"
   ]
  },
  {
   "cell_type": "code",
   "execution_count": 15,
   "id": "8d987cf6",
   "metadata": {},
   "outputs": [
    {
     "data": {
      "text/html": [
       "<div>\n",
       "<style scoped>\n",
       "    .dataframe tbody tr th:only-of-type {\n",
       "        vertical-align: middle;\n",
       "    }\n",
       "\n",
       "    .dataframe tbody tr th {\n",
       "        vertical-align: top;\n",
       "    }\n",
       "\n",
       "    .dataframe thead th {\n",
       "        text-align: right;\n",
       "    }\n",
       "</style>\n",
       "<table border=\"1\" class=\"dataframe\">\n",
       "  <thead>\n",
       "    <tr style=\"text-align: right;\">\n",
       "      <th></th>\n",
       "      <th>sepal_length</th>\n",
       "      <th>petal_length</th>\n",
       "      <th>sepal_width</th>\n",
       "      <th>petal_width</th>\n",
       "    </tr>\n",
       "  </thead>\n",
       "  <tbody>\n",
       "    <tr>\n",
       "      <th>0</th>\n",
       "      <td>5.1</td>\n",
       "      <td>1.4</td>\n",
       "      <td>3.5</td>\n",
       "      <td>0.2</td>\n",
       "    </tr>\n",
       "    <tr>\n",
       "      <th>1</th>\n",
       "      <td>4.9</td>\n",
       "      <td>1.4</td>\n",
       "      <td>3.0</td>\n",
       "      <td>0.2</td>\n",
       "    </tr>\n",
       "    <tr>\n",
       "      <th>2</th>\n",
       "      <td>4.7</td>\n",
       "      <td>1.3</td>\n",
       "      <td>3.2</td>\n",
       "      <td>0.2</td>\n",
       "    </tr>\n",
       "    <tr>\n",
       "      <th>3</th>\n",
       "      <td>4.6</td>\n",
       "      <td>1.5</td>\n",
       "      <td>3.1</td>\n",
       "      <td>0.2</td>\n",
       "    </tr>\n",
       "    <tr>\n",
       "      <th>4</th>\n",
       "      <td>5.0</td>\n",
       "      <td>1.4</td>\n",
       "      <td>3.6</td>\n",
       "      <td>0.2</td>\n",
       "    </tr>\n",
       "  </tbody>\n",
       "</table>\n",
       "</div>"
      ],
      "text/plain": [
       "   sepal_length  petal_length  sepal_width  petal_width\n",
       "0           5.1           1.4          3.5          0.2\n",
       "1           4.9           1.4          3.0          0.2\n",
       "2           4.7           1.3          3.2          0.2\n",
       "3           4.6           1.5          3.1          0.2\n",
       "4           5.0           1.4          3.6          0.2"
      ]
     },
     "execution_count": 15,
     "metadata": {},
     "output_type": "execute_result"
    }
   ],
   "source": [
    "#Loading the preprocesed iris dataset\n",
    "file_path = \"new_iris_data.csv\"\n",
    "df_iris = pd.read_csv(file_path)\n",
    "df_iris.head()"
   ]
  },
  {
   "cell_type": "code",
   "execution_count": 16,
   "id": "e29339aa",
   "metadata": {},
   "outputs": [],
   "source": [
    "import plotly.figure_factory as ff"
   ]
  },
  {
   "cell_type": "code",
   "execution_count": 17,
   "id": "8b9f7652",
   "metadata": {
    "scrolled": true
   },
   "outputs": [
    {
     "name": "stdout",
     "output_type": "stream",
     "text": [
      "[[-0.90068117 -1.3412724   1.03205722 -1.31297673]\n",
      " [-1.14301691 -1.3412724  -0.1249576  -1.31297673]\n",
      " [-1.38535265 -1.39813811  0.33784833 -1.31297673]\n",
      " [-1.50652052 -1.2844067   0.10644536 -1.31297673]\n",
      " [-1.02184904 -1.3412724   1.26346019 -1.31297673]]\n"
     ]
    }
   ],
   "source": [
    "#Standardize data with StandardScaler\n",
    "iris_scaled = StandardScaler().fit_transform(df_iris)\n",
    "print(iris_scaled[0:5])"
   ]
  },
  {
   "cell_type": "code",
   "execution_count": 18,
   "id": "a3735248",
   "metadata": {},
   "outputs": [],
   "source": [
    "# Initialize PCA model\n",
    "pca = PCA(n_components=2)"
   ]
  },
  {
   "cell_type": "code",
   "execution_count": 19,
   "id": "bf0374be",
   "metadata": {},
   "outputs": [],
   "source": [
    "# Get two principal components for the iris data.\n",
    "iris_pca = pca.fit_transform(iris_scaled)"
   ]
  },
  {
   "cell_type": "code",
   "execution_count": 27,
   "id": "cb34571b",
   "metadata": {},
   "outputs": [
    {
     "data": {
      "text/html": [
       "<div>\n",
       "<style scoped>\n",
       "    .dataframe tbody tr th:only-of-type {\n",
       "        vertical-align: middle;\n",
       "    }\n",
       "\n",
       "    .dataframe tbody tr th {\n",
       "        vertical-align: top;\n",
       "    }\n",
       "\n",
       "    .dataframe thead th {\n",
       "        text-align: right;\n",
       "    }\n",
       "</style>\n",
       "<table border=\"1\" class=\"dataframe\">\n",
       "  <thead>\n",
       "    <tr style=\"text-align: right;\">\n",
       "      <th></th>\n",
       "      <th>principal component 1</th>\n",
       "      <th>principal component 2</th>\n",
       "    </tr>\n",
       "  </thead>\n",
       "  <tbody>\n",
       "    <tr>\n",
       "      <th>0</th>\n",
       "      <td>-2.264542</td>\n",
       "      <td>0.505704</td>\n",
       "    </tr>\n",
       "    <tr>\n",
       "      <th>1</th>\n",
       "      <td>-2.086426</td>\n",
       "      <td>-0.655405</td>\n",
       "    </tr>\n",
       "    <tr>\n",
       "      <th>2</th>\n",
       "      <td>-2.367950</td>\n",
       "      <td>-0.318477</td>\n",
       "    </tr>\n",
       "    <tr>\n",
       "      <th>3</th>\n",
       "      <td>-2.304197</td>\n",
       "      <td>-0.575368</td>\n",
       "    </tr>\n",
       "    <tr>\n",
       "      <th>4</th>\n",
       "      <td>-2.388777</td>\n",
       "      <td>0.674767</td>\n",
       "    </tr>\n",
       "  </tbody>\n",
       "</table>\n",
       "</div>"
      ],
      "text/plain": [
       "   principal component 1  principal component 2\n",
       "0              -2.264542               0.505704\n",
       "1              -2.086426              -0.655405\n",
       "2              -2.367950              -0.318477\n",
       "3              -2.304197              -0.575368\n",
       "4              -2.388777               0.674767"
      ]
     },
     "execution_count": 27,
     "metadata": {},
     "output_type": "execute_result"
    }
   ],
   "source": [
    "#Transform PCA data a DF\n",
    "df_iris_pca = pd.DataFrame(\n",
    "    data=iris_pca, columns=[\"principal component 1\", \"principal component 2\"]\n",
    ")\n",
    "df_iris_pca.head()"
   ]
  },
  {
   "cell_type": "code",
   "execution_count": 28,
   "id": "22de08c6",
   "metadata": {},
   "outputs": [],
   "source": [
    "import plotly.figure_factory as ff"
   ]
  },
  {
   "cell_type": "code",
   "execution_count": 29,
   "id": "39b5b3ca",
   "metadata": {},
   "outputs": [
    {
     "data": {
      "application/vnd.plotly.v1+json": {
       "config": {
        "plotlyServerURL": "https://plot.ly"
       },
       "data": [
        {
         "hoverinfo": "text",
         "marker": {
          "color": "rgb(0,116,217)"
         },
         "mode": "lines",
         "type": "scatter",
         "x": [
          25,
          25,
          35,
          35
         ],
         "xaxis": "x",
         "y": [
          0,
          0.1742238526903768,
          0.1742238526903768,
          0
         ],
         "yaxis": "y"
        },
        {
         "hoverinfo": "text",
         "marker": {
          "color": "rgb(0,116,217)"
         },
         "mode": "lines",
         "type": "scatter",
         "x": [
          15,
          15,
          30,
          30
         ],
         "xaxis": "x",
         "y": [
          0,
          0.38374369539585446,
          0.38374369539585446,
          0.1742238526903768
         ],
         "yaxis": "y"
        },
        {
         "hoverinfo": "text",
         "marker": {
          "color": "rgb(0,116,217)"
         },
         "mode": "lines",
         "type": "scatter",
         "x": [
          55,
          55,
          65,
          65
         ],
         "xaxis": "x",
         "y": [
          0,
          0.07319361257252509,
          0.07319361257252509,
          0
         ],
         "yaxis": "y"
        },
        {
         "hoverinfo": "text",
         "marker": {
          "color": "rgb(0,116,217)"
         },
         "mode": "lines",
         "type": "scatter",
         "x": [
          45,
          45,
          60,
          60
         ],
         "xaxis": "x",
         "y": [
          0,
          0.45738576876521586,
          0.45738576876521586,
          0.07319361257252509
         ],
         "yaxis": "y"
        },
        {
         "hoverinfo": "text",
         "marker": {
          "color": "rgb(0,116,217)"
         },
         "mode": "lines",
         "type": "scatter",
         "x": [
          22.5,
          22.5,
          52.5,
          52.5
         ],
         "xaxis": "x",
         "y": [
          0.38374369539585446,
          0.7092374678608773,
          0.7092374678608773,
          0.45738576876521586
         ],
         "yaxis": "y"
        },
        {
         "hoverinfo": "text",
         "marker": {
          "color": "rgb(0,116,217)"
         },
         "mode": "lines",
         "type": "scatter",
         "x": [
          5,
          5,
          37.5,
          37.5
         ],
         "xaxis": "x",
         "y": [
          0,
          1.2353990195988571,
          1.2353990195988571,
          0.7092374678608773
         ],
         "yaxis": "y"
        },
        {
         "hoverinfo": "text",
         "marker": {
          "color": "rgb(0,116,217)"
         },
         "mode": "lines",
         "type": "scatter",
         "x": [
          85,
          85,
          95,
          95
         ],
         "xaxis": "x",
         "y": [
          0,
          0.13975972015707447,
          0.13975972015707447,
          0
         ],
         "yaxis": "y"
        },
        {
         "hoverinfo": "text",
         "marker": {
          "color": "rgb(0,116,217)"
         },
         "mode": "lines",
         "type": "scatter",
         "x": [
          75,
          75,
          90,
          90
         ],
         "xaxis": "x",
         "y": [
          0,
          0.7064096921199904,
          0.7064096921199904,
          0.13975972015707447
         ],
         "yaxis": "y"
        },
        {
         "hoverinfo": "text",
         "marker": {
          "color": "rgb(0,116,217)"
         },
         "mode": "lines",
         "type": "scatter",
         "x": [
          105,
          105,
          115,
          115
         ],
         "xaxis": "x",
         "y": [
          0,
          0.3260194072991156,
          0.3260194072991156,
          0
         ],
         "yaxis": "y"
        },
        {
         "hoverinfo": "text",
         "marker": {
          "color": "rgb(0,116,217)"
         },
         "mode": "lines",
         "type": "scatter",
         "x": [
          145,
          145,
          155,
          155
         ],
         "xaxis": "x",
         "y": [
          0,
          0.16859051404210929,
          0.16859051404210929,
          0
         ],
         "yaxis": "y"
        },
        {
         "hoverinfo": "text",
         "marker": {
          "color": "rgb(0,116,217)"
         },
         "mode": "lines",
         "type": "scatter",
         "x": [
          135,
          135,
          150,
          150
         ],
         "xaxis": "x",
         "y": [
          0,
          0.19625016991683483,
          0.19625016991683483,
          0.16859051404210929
         ],
         "yaxis": "y"
        },
        {
         "hoverinfo": "text",
         "marker": {
          "color": "rgb(0,116,217)"
         },
         "mode": "lines",
         "type": "scatter",
         "x": [
          125,
          125,
          142.5,
          142.5
         ],
         "xaxis": "x",
         "y": [
          0,
          0.3333967025086715,
          0.3333967025086715,
          0.19625016991683483
         ],
         "yaxis": "y"
        },
        {
         "hoverinfo": "text",
         "marker": {
          "color": "rgb(0,116,217)"
         },
         "mode": "lines",
         "type": "scatter",
         "x": [
          110,
          110,
          133.75,
          133.75
         ],
         "xaxis": "x",
         "y": [
          0.3260194072991156,
          0.7016522439728989,
          0.7016522439728989,
          0.3333967025086715
         ],
         "yaxis": "y"
        },
        {
         "hoverinfo": "text",
         "marker": {
          "color": "rgb(0,116,217)"
         },
         "mode": "lines",
         "type": "scatter",
         "x": [
          175,
          175,
          185,
          185
         ],
         "xaxis": "x",
         "y": [
          0,
          0.1469261044767663,
          0.1469261044767663,
          0
         ],
         "yaxis": "y"
        },
        {
         "hoverinfo": "text",
         "marker": {
          "color": "rgb(0,116,217)"
         },
         "mode": "lines",
         "type": "scatter",
         "x": [
          165,
          165,
          180,
          180
         ],
         "xaxis": "x",
         "y": [
          0,
          0.3117955583379414,
          0.3117955583379414,
          0.1469261044767663
         ],
         "yaxis": "y"
        },
        {
         "hoverinfo": "text",
         "marker": {
          "color": "rgb(0,116,217)"
         },
         "mode": "lines",
         "type": "scatter",
         "x": [
          215,
          215,
          225,
          225
         ],
         "xaxis": "x",
         "y": [
          0,
          0.13710992661168936,
          0.13710992661168936,
          0
         ],
         "yaxis": "y"
        },
        {
         "hoverinfo": "text",
         "marker": {
          "color": "rgb(0,116,217)"
         },
         "mode": "lines",
         "type": "scatter",
         "x": [
          205,
          205,
          220,
          220
         ],
         "xaxis": "x",
         "y": [
          0,
          0.32785699012283254,
          0.32785699012283254,
          0.13710992661168936
         ],
         "yaxis": "y"
        },
        {
         "hoverinfo": "text",
         "marker": {
          "color": "rgb(0,116,217)"
         },
         "mode": "lines",
         "type": "scatter",
         "x": [
          195,
          195,
          212.5,
          212.5
         ],
         "xaxis": "x",
         "y": [
          0,
          0.4019296896133174,
          0.4019296896133174,
          0.32785699012283254
         ],
         "yaxis": "y"
        },
        {
         "hoverinfo": "text",
         "marker": {
          "color": "rgb(0,116,217)"
         },
         "mode": "lines",
         "type": "scatter",
         "x": [
          172.5,
          172.5,
          203.75,
          203.75
         ],
         "xaxis": "x",
         "y": [
          0.3117955583379414,
          0.6189575064916504,
          0.6189575064916504,
          0.4019296896133174
         ],
         "yaxis": "y"
        },
        {
         "hoverinfo": "text",
         "marker": {
          "color": "rgb(0,116,217)"
         },
         "mode": "lines",
         "type": "scatter",
         "x": [
          245,
          245,
          255,
          255
         ],
         "xaxis": "x",
         "y": [
          0,
          0.042806358020714586,
          0.042806358020714586,
          0
         ],
         "yaxis": "y"
        },
        {
         "hoverinfo": "text",
         "marker": {
          "color": "rgb(0,116,217)"
         },
         "mode": "lines",
         "type": "scatter",
         "x": [
          265,
          265,
          275,
          275
         ],
         "xaxis": "x",
         "y": [
          0,
          0.06306517628686484,
          0.06306517628686484,
          0
         ],
         "yaxis": "y"
        },
        {
         "hoverinfo": "text",
         "marker": {
          "color": "rgb(0,116,217)"
         },
         "mode": "lines",
         "type": "scatter",
         "x": [
          250,
          250,
          270,
          270
         ],
         "xaxis": "x",
         "y": [
          0.042806358020714586,
          0.18851634764369515,
          0.18851634764369515,
          0.06306517628686484
         ],
         "yaxis": "y"
        },
        {
         "hoverinfo": "text",
         "marker": {
          "color": "rgb(0,116,217)"
         },
         "mode": "lines",
         "type": "scatter",
         "x": [
          235,
          235,
          260,
          260
         ],
         "xaxis": "x",
         "y": [
          0,
          0.23451818445284778,
          0.23451818445284778,
          0.18851634764369515
         ],
         "yaxis": "y"
        },
        {
         "hoverinfo": "text",
         "marker": {
          "color": "rgb(0,116,217)"
         },
         "mode": "lines",
         "type": "scatter",
         "x": [
          295,
          295,
          305,
          305
         ],
         "xaxis": "x",
         "y": [
          0,
          0.034372154742527125,
          0.034372154742527125,
          0
         ],
         "yaxis": "y"
        },
        {
         "hoverinfo": "text",
         "marker": {
          "color": "rgb(0,116,217)"
         },
         "mode": "lines",
         "type": "scatter",
         "x": [
          285,
          285,
          300,
          300
         ],
         "xaxis": "x",
         "y": [
          0,
          0.12422212395013217,
          0.12422212395013217,
          0.034372154742527125
         ],
         "yaxis": "y"
        },
        {
         "hoverinfo": "text",
         "marker": {
          "color": "rgb(0,116,217)"
         },
         "mode": "lines",
         "type": "scatter",
         "x": [
          335,
          335,
          345,
          345
         ],
         "xaxis": "x",
         "y": [
          0,
          0.05139741229310824,
          0.05139741229310824,
          0
         ],
         "yaxis": "y"
        },
        {
         "hoverinfo": "text",
         "marker": {
          "color": "rgb(0,116,217)"
         },
         "mode": "lines",
         "type": "scatter",
         "x": [
          325,
          325,
          340,
          340
         ],
         "xaxis": "x",
         "y": [
          0,
          0.13615265946754676,
          0.13615265946754676,
          0.05139741229310824
         ],
         "yaxis": "y"
        },
        {
         "hoverinfo": "text",
         "marker": {
          "color": "rgb(0,116,217)"
         },
         "mode": "lines",
         "type": "scatter",
         "x": [
          315,
          315,
          332.5,
          332.5
         ],
         "xaxis": "x",
         "y": [
          0,
          0.17403345329248476,
          0.17403345329248476,
          0.13615265946754676
         ],
         "yaxis": "y"
        },
        {
         "hoverinfo": "text",
         "marker": {
          "color": "rgb(0,116,217)"
         },
         "mode": "lines",
         "type": "scatter",
         "x": [
          292.5,
          292.5,
          323.75,
          323.75
         ],
         "xaxis": "x",
         "y": [
          0.12422212395013217,
          0.3964003204597154,
          0.3964003204597154,
          0.17403345329248476
         ],
         "yaxis": "y"
        },
        {
         "hoverinfo": "text",
         "marker": {
          "color": "rgb(0,116,217)"
         },
         "mode": "lines",
         "type": "scatter",
         "x": [
          247.5,
          247.5,
          308.125,
          308.125
         ],
         "xaxis": "x",
         "y": [
          0.23451818445284778,
          0.769085500509102,
          0.769085500509102,
          0.3964003204597154
         ],
         "yaxis": "y"
        },
        {
         "hoverinfo": "text",
         "marker": {
          "color": "rgb(0,116,217)"
         },
         "mode": "lines",
         "type": "scatter",
         "x": [
          188.125,
          188.125,
          277.8125,
          277.8125
         ],
         "xaxis": "x",
         "y": [
          0.6189575064916504,
          0.9542697637012855,
          0.9542697637012855,
          0.769085500509102
         ],
         "yaxis": "y"
        },
        {
         "hoverinfo": "text",
         "marker": {
          "color": "rgb(0,116,217)"
         },
         "mode": "lines",
         "type": "scatter",
         "x": [
          121.875,
          121.875,
          232.96875,
          232.96875
         ],
         "xaxis": "x",
         "y": [
          0.7016522439728989,
          1.611553563162022,
          1.611553563162022,
          0.9542697637012855
         ],
         "yaxis": "y"
        },
        {
         "hoverinfo": "text",
         "marker": {
          "color": "rgb(0,116,217)"
         },
         "mode": "lines",
         "type": "scatter",
         "x": [
          82.5,
          82.5,
          177.421875,
          177.421875
         ],
         "xaxis": "x",
         "y": [
          0.7064096921199904,
          2.743714482287449,
          2.743714482287449,
          1.611553563162022
         ],
         "yaxis": "y"
        },
        {
         "hoverinfo": "text",
         "marker": {
          "color": "rgb(0,116,217)"
         },
         "mode": "lines",
         "type": "scatter",
         "x": [
          21.25,
          21.25,
          129.9609375,
          129.9609375
         ],
         "xaxis": "x",
         "y": [
          1.2353990195988571,
          3.0024144315110606,
          3.0024144315110606,
          2.743714482287449
         ],
         "yaxis": "y"
        },
        {
         "hoverinfo": "text",
         "marker": {
          "color": "rgb(0,116,217)"
         },
         "mode": "lines",
         "type": "scatter",
         "x": [
          375,
          375,
          385,
          385
         ],
         "xaxis": "x",
         "y": [
          0,
          0.3842101223880753,
          0.3842101223880753,
          0
         ],
         "yaxis": "y"
        },
        {
         "hoverinfo": "text",
         "marker": {
          "color": "rgb(0,116,217)"
         },
         "mode": "lines",
         "type": "scatter",
         "x": [
          365,
          365,
          380,
          380
         ],
         "xaxis": "x",
         "y": [
          0,
          0.42043420056182423,
          0.42043420056182423,
          0.3842101223880753
         ],
         "yaxis": "y"
        },
        {
         "hoverinfo": "text",
         "marker": {
          "color": "rgb(0,116,217)"
         },
         "mode": "lines",
         "type": "scatter",
         "x": [
          355,
          355,
          372.5,
          372.5
         ],
         "xaxis": "x",
         "y": [
          0,
          0.9624508321318369,
          0.9624508321318369,
          0.42043420056182423
         ],
         "yaxis": "y"
        },
        {
         "hoverinfo": "text",
         "marker": {
          "color": "rgb(0,116,217)"
         },
         "mode": "lines",
         "type": "scatter",
         "x": [
          395,
          395,
          405,
          405
         ],
         "xaxis": "x",
         "y": [
          0,
          0.04196686728486643,
          0.04196686728486643,
          0
         ],
         "yaxis": "y"
        },
        {
         "hoverinfo": "text",
         "marker": {
          "color": "rgb(0,116,217)"
         },
         "mode": "lines",
         "type": "scatter",
         "x": [
          415,
          415,
          425,
          425
         ],
         "xaxis": "x",
         "y": [
          0,
          0.07630648304882488,
          0.07630648304882488,
          0
         ],
         "yaxis": "y"
        },
        {
         "hoverinfo": "text",
         "marker": {
          "color": "rgb(0,116,217)"
         },
         "mode": "lines",
         "type": "scatter",
         "x": [
          435,
          435,
          445,
          445
         ],
         "xaxis": "x",
         "y": [
          0,
          0.10523708126474898,
          0.10523708126474898,
          0
         ],
         "yaxis": "y"
        },
        {
         "hoverinfo": "text",
         "marker": {
          "color": "rgb(0,116,217)"
         },
         "mode": "lines",
         "type": "scatter",
         "x": [
          420,
          420,
          440,
          440
         ],
         "xaxis": "x",
         "y": [
          0.07630648304882488,
          0.23028186877490914,
          0.23028186877490914,
          0.10523708126474898
         ],
         "yaxis": "y"
        },
        {
         "hoverinfo": "text",
         "marker": {
          "color": "rgb(0,116,217)"
         },
         "mode": "lines",
         "type": "scatter",
         "x": [
          400,
          400,
          430,
          430
         ],
         "xaxis": "x",
         "y": [
          0.04196686728486643,
          0.26545343806974503,
          0.26545343806974503,
          0.23028186877490914
         ],
         "yaxis": "y"
        },
        {
         "hoverinfo": "text",
         "marker": {
          "color": "rgb(0,116,217)"
         },
         "mode": "lines",
         "type": "scatter",
         "x": [
          465,
          465,
          475,
          475
         ],
         "xaxis": "x",
         "y": [
          0,
          0.13230071340335986,
          0.13230071340335986,
          0
         ],
         "yaxis": "y"
        },
        {
         "hoverinfo": "text",
         "marker": {
          "color": "rgb(0,116,217)"
         },
         "mode": "lines",
         "type": "scatter",
         "x": [
          455,
          455,
          470,
          470
         ],
         "xaxis": "x",
         "y": [
          0,
          0.3195470042292052,
          0.3195470042292052,
          0.13230071340335986
         ],
         "yaxis": "y"
        },
        {
         "hoverinfo": "text",
         "marker": {
          "color": "rgb(0,116,217)"
         },
         "mode": "lines",
         "type": "scatter",
         "x": [
          415,
          415,
          462.5,
          462.5
         ],
         "xaxis": "x",
         "y": [
          0.26545343806974503,
          0.581759751920327,
          0.581759751920327,
          0.3195470042292052
         ],
         "yaxis": "y"
        },
        {
         "hoverinfo": "text",
         "marker": {
          "color": "rgb(0,116,217)"
         },
         "mode": "lines",
         "type": "scatter",
         "x": [
          505,
          505,
          515,
          515
         ],
         "xaxis": "x",
         "y": [
          0,
          0.0436528547251211,
          0.0436528547251211,
          0
         ],
         "yaxis": "y"
        },
        {
         "hoverinfo": "text",
         "marker": {
          "color": "rgb(0,116,217)"
         },
         "mode": "lines",
         "type": "scatter",
         "x": [
          525,
          525,
          535,
          535
         ],
         "xaxis": "x",
         "y": [
          0,
          0.043652854725122765,
          0.043652854725122765,
          0
         ],
         "yaxis": "y"
        },
        {
         "hoverinfo": "text",
         "marker": {
          "color": "rgb(0,116,217)"
         },
         "mode": "lines",
         "type": "scatter",
         "x": [
          510,
          510,
          530,
          530
         ],
         "xaxis": "x",
         "y": [
          0.0436528547251211,
          0.1451309789534469,
          0.1451309789534469,
          0.043652854725122765
         ],
         "yaxis": "y"
        },
        {
         "hoverinfo": "text",
         "marker": {
          "color": "rgb(0,116,217)"
         },
         "mode": "lines",
         "type": "scatter",
         "x": [
          495,
          495,
          520,
          520
         ],
         "xaxis": "x",
         "y": [
          0,
          0.2553227356318862,
          0.2553227356318862,
          0.1451309789534469
         ],
         "yaxis": "y"
        },
        {
         "hoverinfo": "text",
         "marker": {
          "color": "rgb(0,116,217)"
         },
         "mode": "lines",
         "type": "scatter",
         "x": [
          565,
          565,
          575,
          575
         ],
         "xaxis": "x",
         "y": [
          0,
          0.08337577355010889,
          0.08337577355010889,
          0
         ],
         "yaxis": "y"
        },
        {
         "hoverinfo": "text",
         "marker": {
          "color": "rgb(0,116,217)"
         },
         "mode": "lines",
         "type": "scatter",
         "x": [
          555,
          555,
          570,
          570
         ],
         "xaxis": "x",
         "y": [
          0,
          0.14223637132454783,
          0.14223637132454783,
          0.08337577355010889
         ],
         "yaxis": "y"
        },
        {
         "hoverinfo": "text",
         "marker": {
          "color": "rgb(0,116,217)"
         },
         "mode": "lines",
         "type": "scatter",
         "x": [
          545,
          545,
          562.5,
          562.5
         ],
         "xaxis": "x",
         "y": [
          0,
          0.32030950294232546,
          0.32030950294232546,
          0.14223637132454783
         ],
         "yaxis": "y"
        },
        {
         "hoverinfo": "text",
         "marker": {
          "color": "rgb(0,116,217)"
         },
         "mode": "lines",
         "type": "scatter",
         "x": [
          507.5,
          507.5,
          553.75,
          553.75
         ],
         "xaxis": "x",
         "y": [
          0.2553227356318862,
          0.6022795159216785,
          0.6022795159216785,
          0.32030950294232546
         ],
         "yaxis": "y"
        },
        {
         "hoverinfo": "text",
         "marker": {
          "color": "rgb(0,116,217)"
         },
         "mode": "lines",
         "type": "scatter",
         "x": [
          605,
          605,
          615,
          615
         ],
         "xaxis": "x",
         "y": [
          0,
          0.05331907673260611,
          0.05331907673260611,
          0
         ],
         "yaxis": "y"
        },
        {
         "hoverinfo": "text",
         "marker": {
          "color": "rgb(0,116,217)"
         },
         "mode": "lines",
         "type": "scatter",
         "x": [
          595,
          595,
          610,
          610
         ],
         "xaxis": "x",
         "y": [
          0,
          0.1214578018438611,
          0.1214578018438611,
          0.05331907673260611
         ],
         "yaxis": "y"
        },
        {
         "hoverinfo": "text",
         "marker": {
          "color": "rgb(0,116,217)"
         },
         "mode": "lines",
         "type": "scatter",
         "x": [
          585,
          585,
          602.5,
          602.5
         ],
         "xaxis": "x",
         "y": [
          0,
          0.3964619758082047,
          0.3964619758082047,
          0.1214578018438611
         ],
         "yaxis": "y"
        },
        {
         "hoverinfo": "text",
         "marker": {
          "color": "rgb(0,116,217)"
         },
         "mode": "lines",
         "type": "scatter",
         "x": [
          625,
          625,
          635,
          635
         ],
         "xaxis": "x",
         "y": [
          0,
          0.21663725311855764,
          0.21663725311855764,
          0
         ],
         "yaxis": "y"
        },
        {
         "hoverinfo": "text",
         "marker": {
          "color": "rgb(0,116,217)"
         },
         "mode": "lines",
         "type": "scatter",
         "x": [
          665,
          665,
          675,
          675
         ],
         "xaxis": "x",
         "y": [
          0,
          0.08561271604142928,
          0.08561271604142928,
          0
         ],
         "yaxis": "y"
        },
        {
         "hoverinfo": "text",
         "marker": {
          "color": "rgb(0,116,217)"
         },
         "mode": "lines",
         "type": "scatter",
         "x": [
          655,
          655,
          670,
          670
         ],
         "xaxis": "x",
         "y": [
          0,
          0.12913046641490014,
          0.12913046641490014,
          0.08561271604142928
         ],
         "yaxis": "y"
        },
        {
         "hoverinfo": "text",
         "marker": {
          "color": "rgb(0,116,217)"
         },
         "mode": "lines",
         "type": "scatter",
         "x": [
          645,
          645,
          662.5,
          662.5
         ],
         "xaxis": "x",
         "y": [
          0,
          0.2735606229099881,
          0.2735606229099881,
          0.12913046641490014
         ],
         "yaxis": "y"
        },
        {
         "hoverinfo": "text",
         "marker": {
          "color": "rgb(0,116,217)"
         },
         "mode": "lines",
         "type": "scatter",
         "x": [
          630,
          630,
          653.75,
          653.75
         ],
         "xaxis": "x",
         "y": [
          0.21663725311855764,
          0.4325489512436783,
          0.4325489512436783,
          0.2735606229099881
         ],
         "yaxis": "y"
        },
        {
         "hoverinfo": "text",
         "marker": {
          "color": "rgb(0,116,217)"
         },
         "mode": "lines",
         "type": "scatter",
         "x": [
          593.75,
          593.75,
          641.875,
          641.875
         ],
         "xaxis": "x",
         "y": [
          0.3964619758082047,
          0.6261276907800091,
          0.6261276907800091,
          0.4325489512436783
         ],
         "yaxis": "y"
        },
        {
         "hoverinfo": "text",
         "marker": {
          "color": "rgb(0,116,217)"
         },
         "mode": "lines",
         "type": "scatter",
         "x": [
          530.625,
          530.625,
          617.8125,
          617.8125
         ],
         "xaxis": "x",
         "y": [
          0.6022795159216785,
          0.8851341628602782,
          0.8851341628602782,
          0.6261276907800091
         ],
         "yaxis": "y"
        },
        {
         "hoverinfo": "text",
         "marker": {
          "color": "rgb(0,116,217)"
         },
         "mode": "lines",
         "type": "scatter",
         "x": [
          485,
          485,
          574.21875,
          574.21875
         ],
         "xaxis": "x",
         "y": [
          0,
          1.0276987650236058,
          1.0276987650236058,
          0.8851341628602782
         ],
         "yaxis": "y"
        },
        {
         "hoverinfo": "text",
         "marker": {
          "color": "rgb(0,116,217)"
         },
         "mode": "lines",
         "type": "scatter",
         "x": [
          438.75,
          438.75,
          529.609375,
          529.609375
         ],
         "xaxis": "x",
         "y": [
          0.581759751920327,
          1.7086794888692798,
          1.7086794888692798,
          1.0276987650236058
         ],
         "yaxis": "y"
        },
        {
         "hoverinfo": "text",
         "marker": {
          "color": "rgb(0,116,217)"
         },
         "mode": "lines",
         "type": "scatter",
         "x": [
          363.75,
          363.75,
          484.1796875,
          484.1796875
         ],
         "xaxis": "x",
         "y": [
          0.9624508321318369,
          2.9069888715125725,
          2.9069888715125725,
          1.7086794888692798
         ],
         "yaxis": "y"
        },
        {
         "hoverinfo": "text",
         "marker": {
          "color": "rgb(0,116,217)"
         },
         "mode": "lines",
         "type": "scatter",
         "x": [
          705,
          705,
          715,
          715
         ],
         "xaxis": "x",
         "y": [
          0,
          0.21134902766696692,
          0.21134902766696692,
          0
         ],
         "yaxis": "y"
        },
        {
         "hoverinfo": "text",
         "marker": {
          "color": "rgb(0,116,217)"
         },
         "mode": "lines",
         "type": "scatter",
         "x": [
          695,
          695,
          710,
          710
         ],
         "xaxis": "x",
         "y": [
          0,
          0.33655104878654146,
          0.33655104878654146,
          0.21134902766696692
         ],
         "yaxis": "y"
        },
        {
         "hoverinfo": "text",
         "marker": {
          "color": "rgb(0,116,217)"
         },
         "mode": "lines",
         "type": "scatter",
         "x": [
          745,
          745,
          755,
          755
         ],
         "xaxis": "x",
         "y": [
          0,
          0.05331907673260593,
          0.05331907673260593,
          0
         ],
         "yaxis": "y"
        },
        {
         "hoverinfo": "text",
         "marker": {
          "color": "rgb(0,116,217)"
         },
         "mode": "lines",
         "type": "scatter",
         "x": [
          735,
          735,
          750,
          750
         ],
         "xaxis": "x",
         "y": [
          0,
          0.13784829338354523,
          0.13784829338354523,
          0.05331907673260593
         ],
         "yaxis": "y"
        },
        {
         "hoverinfo": "text",
         "marker": {
          "color": "rgb(0,116,217)"
         },
         "mode": "lines",
         "type": "scatter",
         "x": [
          725,
          725,
          742.5,
          742.5
         ],
         "xaxis": "x",
         "y": [
          0,
          0.3207027754018822,
          0.3207027754018822,
          0.13784829338354523
         ],
         "yaxis": "y"
        },
        {
         "hoverinfo": "text",
         "marker": {
          "color": "rgb(0,116,217)"
         },
         "mode": "lines",
         "type": "scatter",
         "x": [
          775,
          775,
          785,
          785
         ],
         "xaxis": "x",
         "y": [
          0,
          0.03815324152441231,
          0.03815324152441231,
          0
         ],
         "yaxis": "y"
        },
        {
         "hoverinfo": "text",
         "marker": {
          "color": "rgb(0,116,217)"
         },
         "mode": "lines",
         "type": "scatter",
         "x": [
          765,
          765,
          780,
          780
         ],
         "xaxis": "x",
         "y": [
          0,
          0.14513097895344707,
          0.14513097895344707,
          0.03815324152441231
         ],
         "yaxis": "y"
        },
        {
         "hoverinfo": "text",
         "marker": {
          "color": "rgb(0,116,217)"
         },
         "mode": "lines",
         "type": "scatter",
         "x": [
          815,
          815,
          825,
          825
         ],
         "xaxis": "x",
         "y": [
          0,
          0,
          0,
          0
         ],
         "yaxis": "y"
        },
        {
         "hoverinfo": "text",
         "marker": {
          "color": "rgb(0,116,217)"
         },
         "mode": "lines",
         "type": "scatter",
         "x": [
          805,
          805,
          820,
          820
         ],
         "xaxis": "x",
         "y": [
          0,
          0,
          0,
          0
         ],
         "yaxis": "y"
        },
        {
         "hoverinfo": "text",
         "marker": {
          "color": "rgb(0,116,217)"
         },
         "mode": "lines",
         "type": "scatter",
         "x": [
          795,
          795,
          812.5,
          812.5
         ],
         "xaxis": "x",
         "y": [
          0,
          0.0565128551558617,
          0.0565128551558617,
          0
         ],
         "yaxis": "y"
        },
        {
         "hoverinfo": "text",
         "marker": {
          "color": "rgb(0,116,217)"
         },
         "mode": "lines",
         "type": "scatter",
         "x": [
          835,
          835,
          845,
          845
         ],
         "xaxis": "x",
         "y": [
          0,
          0.15590864319878112,
          0.15590864319878112,
          0
         ],
         "yaxis": "y"
        },
        {
         "hoverinfo": "text",
         "marker": {
          "color": "rgb(0,116,217)"
         },
         "mode": "lines",
         "type": "scatter",
         "x": [
          803.75,
          803.75,
          840,
          840
         ],
         "xaxis": "x",
         "y": [
          0.0565128551558617,
          0.26288444146414375,
          0.26288444146414375,
          0.15590864319878112
         ],
         "yaxis": "y"
        },
        {
         "hoverinfo": "text",
         "marker": {
          "color": "rgb(0,116,217)"
         },
         "mode": "lines",
         "type": "scatter",
         "x": [
          772.5,
          772.5,
          821.875,
          821.875
         ],
         "xaxis": "x",
         "y": [
          0.14513097895344707,
          0.34869336804184525,
          0.34869336804184525,
          0.26288444146414375
         ],
         "yaxis": "y"
        },
        {
         "hoverinfo": "text",
         "marker": {
          "color": "rgb(0,116,217)"
         },
         "mode": "lines",
         "type": "scatter",
         "x": [
          733.75,
          733.75,
          797.1875,
          797.1875
         ],
         "xaxis": "x",
         "y": [
          0.3207027754018822,
          0.6202520639239192,
          0.6202520639239192,
          0.34869336804184525
         ],
         "yaxis": "y"
        },
        {
         "hoverinfo": "text",
         "marker": {
          "color": "rgb(0,116,217)"
         },
         "mode": "lines",
         "type": "scatter",
         "x": [
          702.5,
          702.5,
          765.46875,
          765.46875
         ],
         "xaxis": "x",
         "y": [
          0.33655104878654146,
          0.7836907919106648,
          0.7836907919106648,
          0.6202520639239192
         ],
         "yaxis": "y"
        },
        {
         "hoverinfo": "text",
         "marker": {
          "color": "rgb(0,116,217)"
         },
         "mode": "lines",
         "type": "scatter",
         "x": [
          685,
          685,
          733.984375,
          733.984375
         ],
         "xaxis": "x",
         "y": [
          0,
          2.0695891918900102,
          2.0695891918900102,
          0.7836907919106648
         ],
         "yaxis": "y"
        },
        {
         "hoverinfo": "text",
         "marker": {
          "color": "rgb(0,116,217)"
         },
         "mode": "lines",
         "type": "scatter",
         "x": [
          865,
          865,
          875,
          875
         ],
         "xaxis": "x",
         "y": [
          0,
          0.09268419554363144,
          0.09268419554363144,
          0
         ],
         "yaxis": "y"
        },
        {
         "hoverinfo": "text",
         "marker": {
          "color": "rgb(0,116,217)"
         },
         "mode": "lines",
         "type": "scatter",
         "x": [
          855,
          855,
          870,
          870
         ],
         "xaxis": "x",
         "y": [
          0,
          0.391497278092058,
          0.391497278092058,
          0.09268419554363144
         ],
         "yaxis": "y"
        },
        {
         "hoverinfo": "text",
         "marker": {
          "color": "rgb(0,116,217)"
         },
         "mode": "lines",
         "type": "scatter",
         "x": [
          905,
          905,
          915,
          915
         ],
         "xaxis": "x",
         "y": [
          0,
          0.20980226479244987,
          0.20980226479244987,
          0
         ],
         "yaxis": "y"
        },
        {
         "hoverinfo": "text",
         "marker": {
          "color": "rgb(0,116,217)"
         },
         "mode": "lines",
         "type": "scatter",
         "x": [
          895,
          895,
          910,
          910
         ],
         "xaxis": "x",
         "y": [
          0,
          0.485679413198254,
          0.485679413198254,
          0.20980226479244987
         ],
         "yaxis": "y"
        },
        {
         "hoverinfo": "text",
         "marker": {
          "color": "rgb(0,116,217)"
         },
         "mode": "lines",
         "type": "scatter",
         "x": [
          935,
          935,
          945,
          945
         ],
         "xaxis": "x",
         "y": [
          0,
          0.15499823689709485,
          0.15499823689709485,
          0
         ],
         "yaxis": "y"
        },
        {
         "hoverinfo": "text",
         "marker": {
          "color": "rgb(0,116,217)"
         },
         "mode": "lines",
         "type": "scatter",
         "x": [
          925,
          925,
          940,
          940
         ],
         "xaxis": "x",
         "y": [
          0,
          0.2872280521239681,
          0.2872280521239681,
          0.15499823689709485
         ],
         "yaxis": "y"
        },
        {
         "hoverinfo": "text",
         "marker": {
          "color": "rgb(0,116,217)"
         },
         "mode": "lines",
         "type": "scatter",
         "x": [
          955,
          955,
          965,
          965
         ],
         "xaxis": "x",
         "y": [
          0,
          0.10786210118850599,
          0.10786210118850599,
          0
         ],
         "yaxis": "y"
        },
        {
         "hoverinfo": "text",
         "marker": {
          "color": "rgb(0,116,217)"
         },
         "mode": "lines",
         "type": "scatter",
         "x": [
          975,
          975,
          985,
          985
         ],
         "xaxis": "x",
         "y": [
          0,
          0.12145780184386136,
          0.12145780184386136,
          0
         ],
         "yaxis": "y"
        },
        {
         "hoverinfo": "text",
         "marker": {
          "color": "rgb(0,116,217)"
         },
         "mode": "lines",
         "type": "scatter",
         "x": [
          960,
          960,
          980,
          980
         ],
         "xaxis": "x",
         "y": [
          0.10786210118850599,
          0.35722646540345715,
          0.35722646540345715,
          0.12145780184386136
         ],
         "yaxis": "y"
        },
        {
         "hoverinfo": "text",
         "marker": {
          "color": "rgb(0,116,217)"
         },
         "mode": "lines",
         "type": "scatter",
         "x": [
          932.5,
          932.5,
          970,
          970
         ],
         "xaxis": "x",
         "y": [
          0.2872280521239681,
          0.6133451557743762,
          0.6133451557743762,
          0.35722646540345715
         ],
         "yaxis": "y"
        },
        {
         "hoverinfo": "text",
         "marker": {
          "color": "rgb(0,116,217)"
         },
         "mode": "lines",
         "type": "scatter",
         "x": [
          902.5,
          902.5,
          951.25,
          951.25
         ],
         "xaxis": "x",
         "y": [
          0.485679413198254,
          1.052266347397016,
          1.052266347397016,
          0.6133451557743762
         ],
         "yaxis": "y"
        },
        {
         "hoverinfo": "text",
         "marker": {
          "color": "rgb(0,116,217)"
         },
         "mode": "lines",
         "type": "scatter",
         "x": [
          885,
          885,
          926.875,
          926.875
         ],
         "xaxis": "x",
         "y": [
          0,
          1.3872049254999175,
          1.3872049254999175,
          1.052266347397016
         ],
         "yaxis": "y"
        },
        {
         "hoverinfo": "text",
         "marker": {
          "color": "rgb(0,116,217)"
         },
         "mode": "lines",
         "type": "scatter",
         "x": [
          862.5,
          862.5,
          905.9375,
          905.9375
         ],
         "xaxis": "x",
         "y": [
          0.391497278092058,
          1.7567567971940705,
          1.7567567971940705,
          1.3872049254999175
         ],
         "yaxis": "y"
        },
        {
         "hoverinfo": "text",
         "marker": {
          "color": "rgb(0,116,217)"
         },
         "mode": "lines",
         "type": "scatter",
         "x": [
          995,
          995,
          1005,
          1005
         ],
         "xaxis": "x",
         "y": [
          0,
          0.13230071340336022,
          0.13230071340336022,
          0
         ],
         "yaxis": "y"
        },
        {
         "hoverinfo": "text",
         "marker": {
          "color": "rgb(0,116,217)"
         },
         "mode": "lines",
         "type": "scatter",
         "x": [
          1025,
          1025,
          1035,
          1035
         ],
         "xaxis": "x",
         "y": [
          0,
          0.08393373456973277,
          0.08393373456973277,
          0
         ],
         "yaxis": "y"
        },
        {
         "hoverinfo": "text",
         "marker": {
          "color": "rgb(0,116,217)"
         },
         "mode": "lines",
         "type": "scatter",
         "x": [
          1015,
          1015,
          1030,
          1030
         ],
         "xaxis": "x",
         "y": [
          0,
          0.14415651931954457,
          0.14415651931954457,
          0.08393373456973277
         ],
         "yaxis": "y"
        },
        {
         "hoverinfo": "text",
         "marker": {
          "color": "rgb(0,116,217)"
         },
         "mode": "lines",
         "type": "scatter",
         "x": [
          1000,
          1000,
          1022.5,
          1022.5
         ],
         "xaxis": "x",
         "y": [
          0.13230071340336022,
          0.305379470274238,
          0.305379470274238,
          0.14415651931954457
         ],
         "yaxis": "y"
        },
        {
         "hoverinfo": "text",
         "marker": {
          "color": "rgb(0,116,217)"
         },
         "mode": "lines",
         "type": "scatter",
         "x": [
          1045,
          1045,
          1055,
          1055
         ],
         "xaxis": "x",
         "y": [
          0,
          0.05919022499216805,
          0.05919022499216805,
          0
         ],
         "yaxis": "y"
        },
        {
         "hoverinfo": "text",
         "marker": {
          "color": "rgb(0,116,217)"
         },
         "mode": "lines",
         "type": "scatter",
         "x": [
          1065,
          1065,
          1075,
          1075
         ],
         "xaxis": "x",
         "y": [
          0,
          0.14271216373112017,
          0.14271216373112017,
          0
         ],
         "yaxis": "y"
        },
        {
         "hoverinfo": "text",
         "marker": {
          "color": "rgb(0,116,217)"
         },
         "mode": "lines",
         "type": "scatter",
         "x": [
          1050,
          1050,
          1070,
          1070
         ],
         "xaxis": "x",
         "y": [
          0.05919022499216805,
          0.3834212740664655,
          0.3834212740664655,
          0.14271216373112017
         ],
         "yaxis": "y"
        },
        {
         "hoverinfo": "text",
         "marker": {
          "color": "rgb(0,116,217)"
         },
         "mode": "lines",
         "type": "scatter",
         "x": [
          1011.25,
          1011.25,
          1060,
          1060
         ],
         "xaxis": "x",
         "y": [
          0.305379470274238,
          0.6353698952974263,
          0.6353698952974263,
          0.3834212740664655
         ],
         "yaxis": "y"
        },
        {
         "hoverinfo": "text",
         "marker": {
          "color": "rgb(0,116,217)"
         },
         "mode": "lines",
         "type": "scatter",
         "x": [
          1095,
          1095,
          1105,
          1105
         ],
         "xaxis": "x",
         "y": [
          0,
          0.04365285472512276,
          0.04365285472512276,
          0
         ],
         "yaxis": "y"
        },
        {
         "hoverinfo": "text",
         "marker": {
          "color": "rgb(0,116,217)"
         },
         "mode": "lines",
         "type": "scatter",
         "x": [
          1115,
          1115,
          1125,
          1125
         ],
         "xaxis": "x",
         "y": [
          0,
          0.09968032343222658,
          0.09968032343222658,
          0
         ],
         "yaxis": "y"
        },
        {
         "hoverinfo": "text",
         "marker": {
          "color": "rgb(0,116,217)"
         },
         "mode": "lines",
         "type": "scatter",
         "x": [
          1100,
          1100,
          1120,
          1120
         ],
         "xaxis": "x",
         "y": [
          0.04365285472512276,
          0.24610693122596564,
          0.24610693122596564,
          0.09968032343222658
         ],
         "yaxis": "y"
        },
        {
         "hoverinfo": "text",
         "marker": {
          "color": "rgb(0,116,217)"
         },
         "mode": "lines",
         "type": "scatter",
         "x": [
          1085,
          1085,
          1110,
          1110
         ],
         "xaxis": "x",
         "y": [
          0,
          0.30000168920757747,
          0.30000168920757747,
          0.24610693122596564
         ],
         "yaxis": "y"
        },
        {
         "hoverinfo": "text",
         "marker": {
          "color": "rgb(0,116,217)"
         },
         "mode": "lines",
         "type": "scatter",
         "x": [
          1135,
          1135,
          1145,
          1145
         ],
         "xaxis": "x",
         "y": [
          0,
          0.1570114947433402,
          0.1570114947433402,
          0
         ],
         "yaxis": "y"
        },
        {
         "hoverinfo": "text",
         "marker": {
          "color": "rgb(0,116,217)"
         },
         "mode": "lines",
         "type": "scatter",
         "x": [
          1155,
          1155,
          1165,
          1165
         ],
         "xaxis": "x",
         "y": [
          0,
          0.15995723019781835,
          0.15995723019781835,
          0
         ],
         "yaxis": "y"
        },
        {
         "hoverinfo": "text",
         "marker": {
          "color": "rgb(0,116,217)"
         },
         "mode": "lines",
         "type": "scatter",
         "x": [
          1175,
          1175,
          1185,
          1185
         ],
         "xaxis": "x",
         "y": [
          0,
          0.11942903646680729,
          0.11942903646680729,
          0
         ],
         "yaxis": "y"
        },
        {
         "hoverinfo": "text",
         "marker": {
          "color": "rgb(0,116,217)"
         },
         "mode": "lines",
         "type": "scatter",
         "x": [
          1205,
          1205,
          1215,
          1215
         ],
         "xaxis": "x",
         "y": [
          0,
          0.06740481035033656,
          0.06740481035033656,
          0
         ],
         "yaxis": "y"
        },
        {
         "hoverinfo": "text",
         "marker": {
          "color": "rgb(0,116,217)"
         },
         "mode": "lines",
         "type": "scatter",
         "x": [
          1195,
          1195,
          1210,
          1210
         ],
         "xaxis": "x",
         "y": [
          0,
          0.14674948296429444,
          0.14674948296429444,
          0.06740481035033656
         ],
         "yaxis": "y"
        },
        {
         "hoverinfo": "text",
         "marker": {
          "color": "rgb(0,116,217)"
         },
         "mode": "lines",
         "type": "scatter",
         "x": [
          1180,
          1180,
          1202.5,
          1202.5
         ],
         "xaxis": "x",
         "y": [
          0.11942903646680729,
          0.25488322410401365,
          0.25488322410401365,
          0.14674948296429444
         ],
         "yaxis": "y"
        },
        {
         "hoverinfo": "text",
         "marker": {
          "color": "rgb(0,116,217)"
         },
         "mode": "lines",
         "type": "scatter",
         "x": [
          1160,
          1160,
          1191.25,
          1191.25
         ],
         "xaxis": "x",
         "y": [
          0.15995723019781835,
          0.37469189758336435,
          0.37469189758336435,
          0.25488322410401365
         ],
         "yaxis": "y"
        },
        {
         "hoverinfo": "text",
         "marker": {
          "color": "rgb(0,116,217)"
         },
         "mode": "lines",
         "type": "scatter",
         "x": [
          1140,
          1140,
          1175.625,
          1175.625
         ],
         "xaxis": "x",
         "y": [
          0.1570114947433402,
          0.46905317528730206,
          0.46905317528730206,
          0.37469189758336435
         ],
         "yaxis": "y"
        },
        {
         "hoverinfo": "text",
         "marker": {
          "color": "rgb(0,116,217)"
         },
         "mode": "lines",
         "type": "scatter",
         "x": [
          1097.5,
          1097.5,
          1157.8125,
          1157.8125
         ],
         "xaxis": "x",
         "y": [
          0.30000168920757747,
          0.8250034255081443,
          0.8250034255081443,
          0.46905317528730206
         ],
         "yaxis": "y"
        },
        {
         "hoverinfo": "text",
         "marker": {
          "color": "rgb(0,116,217)"
         },
         "mode": "lines",
         "type": "scatter",
         "x": [
          1035.625,
          1035.625,
          1127.65625,
          1127.65625
         ],
         "xaxis": "x",
         "y": [
          0.6353698952974263,
          1.2752252605148287,
          1.2752252605148287,
          0.8250034255081443
         ],
         "yaxis": "y"
        },
        {
         "hoverinfo": "text",
         "marker": {
          "color": "rgb(0,116,217)"
         },
         "mode": "lines",
         "type": "scatter",
         "x": [
          1235,
          1235,
          1245,
          1245
         ],
         "xaxis": "x",
         "y": [
          0,
          0.13593600206963433,
          0.13593600206963433,
          0
         ],
         "yaxis": "y"
        },
        {
         "hoverinfo": "text",
         "marker": {
          "color": "rgb(0,116,217)"
         },
         "mode": "lines",
         "type": "scatter",
         "x": [
          1225,
          1225,
          1240,
          1240
         ],
         "xaxis": "x",
         "y": [
          0,
          0.2761411221550023,
          0.2761411221550023,
          0.13593600206963433
         ],
         "yaxis": "y"
        },
        {
         "hoverinfo": "text",
         "marker": {
          "color": "rgb(0,116,217)"
         },
         "mode": "lines",
         "type": "scatter",
         "x": [
          1265,
          1265,
          1275,
          1275
         ],
         "xaxis": "x",
         "y": [
          0,
          0.06481686495779498,
          0.06481686495779498,
          0
         ],
         "yaxis": "y"
        },
        {
         "hoverinfo": "text",
         "marker": {
          "color": "rgb(0,116,217)"
         },
         "mode": "lines",
         "type": "scatter",
         "x": [
          1255,
          1255,
          1270,
          1270
         ],
         "xaxis": "x",
         "y": [
          0,
          0.14608658890461257,
          0.14608658890461257,
          0.06481686495779498
         ],
         "yaxis": "y"
        },
        {
         "hoverinfo": "text",
         "marker": {
          "color": "rgb(0,116,217)"
         },
         "mode": "lines",
         "type": "scatter",
         "x": [
          1285,
          1285,
          1295,
          1295
         ],
         "xaxis": "x",
         "y": [
          0,
          0.18732341299624414,
          0.18732341299624414,
          0
         ],
         "yaxis": "y"
        },
        {
         "hoverinfo": "text",
         "marker": {
          "color": "rgb(0,116,217)"
         },
         "mode": "lines",
         "type": "scatter",
         "x": [
          1262.5,
          1262.5,
          1290,
          1290
         ],
         "xaxis": "x",
         "y": [
          0.14608658890461257,
          0.4095164242046943,
          0.4095164242046943,
          0.18732341299624414
         ],
         "yaxis": "y"
        },
        {
         "hoverinfo": "text",
         "marker": {
          "color": "rgb(0,116,217)"
         },
         "mode": "lines",
         "type": "scatter",
         "x": [
          1232.5,
          1232.5,
          1276.25,
          1276.25
         ],
         "xaxis": "x",
         "y": [
          0.2761411221550023,
          0.5692448122416299,
          0.5692448122416299,
          0.4095164242046943
         ],
         "yaxis": "y"
        },
        {
         "hoverinfo": "text",
         "marker": {
          "color": "rgb(0,116,217)"
         },
         "mode": "lines",
         "type": "scatter",
         "x": [
          1305,
          1305,
          1315,
          1315
         ],
         "xaxis": "x",
         "y": [
          0,
          0.05139741229310803,
          0.05139741229310803,
          0
         ],
         "yaxis": "y"
        },
        {
         "hoverinfo": "text",
         "marker": {
          "color": "rgb(0,116,217)"
         },
         "mode": "lines",
         "type": "scatter",
         "x": [
          1325,
          1325,
          1335,
          1335
         ],
         "xaxis": "x",
         "y": [
          0,
          0.09410402468181879,
          0.09410402468181879,
          0
         ],
         "yaxis": "y"
        },
        {
         "hoverinfo": "text",
         "marker": {
          "color": "rgb(0,116,217)"
         },
         "mode": "lines",
         "type": "scatter",
         "x": [
          1310,
          1310,
          1330,
          1330
         ],
         "xaxis": "x",
         "y": [
          0.05139741229310803,
          0.23318427572456582,
          0.23318427572456582,
          0.09410402468181879
         ],
         "yaxis": "y"
        },
        {
         "hoverinfo": "text",
         "marker": {
          "color": "rgb(0,116,217)"
         },
         "mode": "lines",
         "type": "scatter",
         "x": [
          1375,
          1375,
          1385,
          1385
         ],
         "xaxis": "x",
         "y": [
          0,
          0.011445559135699569,
          0.011445559135699569,
          0
         ],
         "yaxis": "y"
        },
        {
         "hoverinfo": "text",
         "marker": {
          "color": "rgb(0,116,217)"
         },
         "mode": "lines",
         "type": "scatter",
         "x": [
          1365,
          1365,
          1380,
          1380
         ],
         "xaxis": "x",
         "y": [
          0,
          0.062147805393630635,
          0.062147805393630635,
          0.011445559135699569
         ],
         "yaxis": "y"
        },
        {
         "hoverinfo": "text",
         "marker": {
          "color": "rgb(0,116,217)"
         },
         "mode": "lines",
         "type": "scatter",
         "x": [
          1355,
          1355,
          1372.5,
          1372.5
         ],
         "xaxis": "x",
         "y": [
          0,
          0.10690092513396056,
          0.10690092513396056,
          0.062147805393630635
         ],
         "yaxis": "y"
        },
        {
         "hoverinfo": "text",
         "marker": {
          "color": "rgb(0,116,217)"
         },
         "mode": "lines",
         "type": "scatter",
         "x": [
          1345,
          1345,
          1363.75,
          1363.75
         ],
         "xaxis": "x",
         "y": [
          0,
          0.2861467897714454,
          0.2861467897714454,
          0.10690092513396056
         ],
         "yaxis": "y"
        },
        {
         "hoverinfo": "text",
         "marker": {
          "color": "rgb(0,116,217)"
         },
         "mode": "lines",
         "type": "scatter",
         "x": [
          1320,
          1320,
          1354.375,
          1354.375
         ],
         "xaxis": "x",
         "y": [
          0.23318427572456582,
          0.6475079183072625,
          0.6475079183072625,
          0.2861467897714454
         ],
         "yaxis": "y"
        },
        {
         "hoverinfo": "text",
         "marker": {
          "color": "rgb(0,116,217)"
         },
         "mode": "lines",
         "type": "scatter",
         "x": [
          1254.375,
          1254.375,
          1337.1875,
          1337.1875
         ],
         "xaxis": "x",
         "y": [
          0.5692448122416299,
          0.9936666997136839,
          0.9936666997136839,
          0.6475079183072625
         ],
         "yaxis": "y"
        },
        {
         "hoverinfo": "text",
         "marker": {
          "color": "rgb(0,116,217)"
         },
         "mode": "lines",
         "type": "scatter",
         "x": [
          1405,
          1405,
          1415,
          1415
         ],
         "xaxis": "x",
         "y": [
          0,
          0.07485825263999087,
          0.07485825263999087,
          0
         ],
         "yaxis": "y"
        },
        {
         "hoverinfo": "text",
         "marker": {
          "color": "rgb(0,116,217)"
         },
         "mode": "lines",
         "type": "scatter",
         "x": [
          1395,
          1395,
          1410,
          1410
         ],
         "xaxis": "x",
         "y": [
          0,
          0.572770774559283,
          0.572770774559283,
          0.07485825263999087
         ],
         "yaxis": "y"
        },
        {
         "hoverinfo": "text",
         "marker": {
          "color": "rgb(0,116,217)"
         },
         "mode": "lines",
         "type": "scatter",
         "x": [
          1425,
          1425,
          1435,
          1435
         ],
         "xaxis": "x",
         "y": [
          0,
          0.10569741933109363,
          0.10569741933109363,
          0
         ],
         "yaxis": "y"
        },
        {
         "hoverinfo": "text",
         "marker": {
          "color": "rgb(0,116,217)"
         },
         "mode": "lines",
         "type": "scatter",
         "x": [
          1455,
          1455,
          1465,
          1465
         ],
         "xaxis": "x",
         "y": [
          0,
          0,
          0,
          0
         ],
         "yaxis": "y"
        },
        {
         "hoverinfo": "text",
         "marker": {
          "color": "rgb(0,116,217)"
         },
         "mode": "lines",
         "type": "scatter",
         "x": [
          1445,
          1445,
          1460,
          1460
         ],
         "xaxis": "x",
         "y": [
          0,
          0.12401589958459895,
          0.12401589958459895,
          0
         ],
         "yaxis": "y"
        },
        {
         "hoverinfo": "text",
         "marker": {
          "color": "rgb(0,116,217)"
         },
         "mode": "lines",
         "type": "scatter",
         "x": [
          1430,
          1430,
          1452.5,
          1452.5
         ],
         "xaxis": "x",
         "y": [
          0.10569741933109363,
          0.33239907488313686,
          0.33239907488313686,
          0.12401589958459895
         ],
         "yaxis": "y"
        },
        {
         "hoverinfo": "text",
         "marker": {
          "color": "rgb(0,116,217)"
         },
         "mode": "lines",
         "type": "scatter",
         "x": [
          1485,
          1485,
          1495,
          1495
         ],
         "xaxis": "x",
         "y": [
          0,
          0.2278630050661621,
          0.2278630050661621,
          0
         ],
         "yaxis": "y"
        },
        {
         "hoverinfo": "text",
         "marker": {
          "color": "rgb(0,116,217)"
         },
         "mode": "lines",
         "type": "scatter",
         "x": [
          1475,
          1475,
          1490,
          1490
         ],
         "xaxis": "x",
         "y": [
          0,
          0.40243904193663127,
          0.40243904193663127,
          0.2278630050661621
         ],
         "yaxis": "y"
        },
        {
         "hoverinfo": "text",
         "marker": {
          "color": "rgb(0,116,217)"
         },
         "mode": "lines",
         "type": "scatter",
         "x": [
          1441.25,
          1441.25,
          1482.5,
          1482.5
         ],
         "xaxis": "x",
         "y": [
          0.33239907488313686,
          0.6733342624918931,
          0.6733342624918931,
          0.40243904193663127
         ],
         "yaxis": "y"
        },
        {
         "hoverinfo": "text",
         "marker": {
          "color": "rgb(0,116,217)"
         },
         "mode": "lines",
         "type": "scatter",
         "x": [
          1402.5,
          1402.5,
          1461.875,
          1461.875
         ],
         "xaxis": "x",
         "y": [
          0.572770774559283,
          1.155219234769419,
          1.155219234769419,
          0.6733342624918931
         ],
         "yaxis": "y"
        },
        {
         "hoverinfo": "text",
         "marker": {
          "color": "rgb(0,116,217)"
         },
         "mode": "lines",
         "type": "scatter",
         "x": [
          1295.78125,
          1295.78125,
          1432.1875,
          1432.1875
         ],
         "xaxis": "x",
         "y": [
          0.9936666997136839,
          1.5924216247186187,
          1.5924216247186187,
          1.155219234769419
         ],
         "yaxis": "y"
        },
        {
         "hoverinfo": "text",
         "marker": {
          "color": "rgb(0,116,217)"
         },
         "mode": "lines",
         "type": "scatter",
         "x": [
          1081.640625,
          1081.640625,
          1363.984375,
          1363.984375
         ],
         "xaxis": "x",
         "y": [
          1.2752252605148287,
          2.0977287288122155,
          2.0977287288122155,
          1.5924216247186187
         ],
         "yaxis": "y"
        },
        {
         "hoverinfo": "text",
         "marker": {
          "color": "rgb(0,116,217)"
         },
         "mode": "lines",
         "type": "scatter",
         "x": [
          884.21875,
          884.21875,
          1222.8125,
          1222.8125
         ],
         "xaxis": "x",
         "y": [
          1.7567567971940705,
          3.4138522413722354,
          3.4138522413722354,
          2.0977287288122155
         ],
         "yaxis": "y"
        },
        {
         "hoverinfo": "text",
         "marker": {
          "color": "rgb(0,116,217)"
         },
         "mode": "lines",
         "type": "scatter",
         "x": [
          709.4921875,
          709.4921875,
          1053.515625,
          1053.515625
         ],
         "xaxis": "x",
         "y": [
          2.0695891918900102,
          4.646401518653679,
          4.646401518653679,
          3.4138522413722354
         ],
         "yaxis": "y"
        },
        {
         "hoverinfo": "text",
         "marker": {
          "color": "rgb(0,116,217)"
         },
         "mode": "lines",
         "type": "scatter",
         "x": [
          423.96484375,
          423.96484375,
          881.50390625,
          881.50390625
         ],
         "xaxis": "x",
         "y": [
          2.9069888715125725,
          5.785517130129325,
          5.785517130129325,
          4.646401518653679
         ],
         "yaxis": "y"
        },
        {
         "hoverinfo": "text",
         "marker": {
          "color": "rgb(0,116,217)"
         },
         "mode": "lines",
         "type": "scatter",
         "x": [
          75.60546875,
          75.60546875,
          652.734375,
          652.734375
         ],
         "xaxis": "x",
         "y": [
          3.0024144315110606,
          6.513529084999634,
          6.513529084999634,
          5.785517130129325
         ],
         "yaxis": "y"
        }
       ],
       "layout": {
        "autosize": false,
        "height": 500,
        "hovermode": "closest",
        "showlegend": false,
        "template": {
         "data": {
          "bar": [
           {
            "error_x": {
             "color": "#2a3f5f"
            },
            "error_y": {
             "color": "#2a3f5f"
            },
            "marker": {
             "line": {
              "color": "#E5ECF6",
              "width": 0.5
             },
             "pattern": {
              "fillmode": "overlay",
              "size": 10,
              "solidity": 0.2
             }
            },
            "type": "bar"
           }
          ],
          "barpolar": [
           {
            "marker": {
             "line": {
              "color": "#E5ECF6",
              "width": 0.5
             },
             "pattern": {
              "fillmode": "overlay",
              "size": 10,
              "solidity": 0.2
             }
            },
            "type": "barpolar"
           }
          ],
          "carpet": [
           {
            "aaxis": {
             "endlinecolor": "#2a3f5f",
             "gridcolor": "white",
             "linecolor": "white",
             "minorgridcolor": "white",
             "startlinecolor": "#2a3f5f"
            },
            "baxis": {
             "endlinecolor": "#2a3f5f",
             "gridcolor": "white",
             "linecolor": "white",
             "minorgridcolor": "white",
             "startlinecolor": "#2a3f5f"
            },
            "type": "carpet"
           }
          ],
          "choropleth": [
           {
            "colorbar": {
             "outlinewidth": 0,
             "ticks": ""
            },
            "type": "choropleth"
           }
          ],
          "contour": [
           {
            "colorbar": {
             "outlinewidth": 0,
             "ticks": ""
            },
            "colorscale": [
             [
              0,
              "#0d0887"
             ],
             [
              0.1111111111111111,
              "#46039f"
             ],
             [
              0.2222222222222222,
              "#7201a8"
             ],
             [
              0.3333333333333333,
              "#9c179e"
             ],
             [
              0.4444444444444444,
              "#bd3786"
             ],
             [
              0.5555555555555556,
              "#d8576b"
             ],
             [
              0.6666666666666666,
              "#ed7953"
             ],
             [
              0.7777777777777778,
              "#fb9f3a"
             ],
             [
              0.8888888888888888,
              "#fdca26"
             ],
             [
              1,
              "#f0f921"
             ]
            ],
            "type": "contour"
           }
          ],
          "contourcarpet": [
           {
            "colorbar": {
             "outlinewidth": 0,
             "ticks": ""
            },
            "type": "contourcarpet"
           }
          ],
          "heatmap": [
           {
            "colorbar": {
             "outlinewidth": 0,
             "ticks": ""
            },
            "colorscale": [
             [
              0,
              "#0d0887"
             ],
             [
              0.1111111111111111,
              "#46039f"
             ],
             [
              0.2222222222222222,
              "#7201a8"
             ],
             [
              0.3333333333333333,
              "#9c179e"
             ],
             [
              0.4444444444444444,
              "#bd3786"
             ],
             [
              0.5555555555555556,
              "#d8576b"
             ],
             [
              0.6666666666666666,
              "#ed7953"
             ],
             [
              0.7777777777777778,
              "#fb9f3a"
             ],
             [
              0.8888888888888888,
              "#fdca26"
             ],
             [
              1,
              "#f0f921"
             ]
            ],
            "type": "heatmap"
           }
          ],
          "heatmapgl": [
           {
            "colorbar": {
             "outlinewidth": 0,
             "ticks": ""
            },
            "colorscale": [
             [
              0,
              "#0d0887"
             ],
             [
              0.1111111111111111,
              "#46039f"
             ],
             [
              0.2222222222222222,
              "#7201a8"
             ],
             [
              0.3333333333333333,
              "#9c179e"
             ],
             [
              0.4444444444444444,
              "#bd3786"
             ],
             [
              0.5555555555555556,
              "#d8576b"
             ],
             [
              0.6666666666666666,
              "#ed7953"
             ],
             [
              0.7777777777777778,
              "#fb9f3a"
             ],
             [
              0.8888888888888888,
              "#fdca26"
             ],
             [
              1,
              "#f0f921"
             ]
            ],
            "type": "heatmapgl"
           }
          ],
          "histogram": [
           {
            "marker": {
             "pattern": {
              "fillmode": "overlay",
              "size": 10,
              "solidity": 0.2
             }
            },
            "type": "histogram"
           }
          ],
          "histogram2d": [
           {
            "colorbar": {
             "outlinewidth": 0,
             "ticks": ""
            },
            "colorscale": [
             [
              0,
              "#0d0887"
             ],
             [
              0.1111111111111111,
              "#46039f"
             ],
             [
              0.2222222222222222,
              "#7201a8"
             ],
             [
              0.3333333333333333,
              "#9c179e"
             ],
             [
              0.4444444444444444,
              "#bd3786"
             ],
             [
              0.5555555555555556,
              "#d8576b"
             ],
             [
              0.6666666666666666,
              "#ed7953"
             ],
             [
              0.7777777777777778,
              "#fb9f3a"
             ],
             [
              0.8888888888888888,
              "#fdca26"
             ],
             [
              1,
              "#f0f921"
             ]
            ],
            "type": "histogram2d"
           }
          ],
          "histogram2dcontour": [
           {
            "colorbar": {
             "outlinewidth": 0,
             "ticks": ""
            },
            "colorscale": [
             [
              0,
              "#0d0887"
             ],
             [
              0.1111111111111111,
              "#46039f"
             ],
             [
              0.2222222222222222,
              "#7201a8"
             ],
             [
              0.3333333333333333,
              "#9c179e"
             ],
             [
              0.4444444444444444,
              "#bd3786"
             ],
             [
              0.5555555555555556,
              "#d8576b"
             ],
             [
              0.6666666666666666,
              "#ed7953"
             ],
             [
              0.7777777777777778,
              "#fb9f3a"
             ],
             [
              0.8888888888888888,
              "#fdca26"
             ],
             [
              1,
              "#f0f921"
             ]
            ],
            "type": "histogram2dcontour"
           }
          ],
          "mesh3d": [
           {
            "colorbar": {
             "outlinewidth": 0,
             "ticks": ""
            },
            "type": "mesh3d"
           }
          ],
          "parcoords": [
           {
            "line": {
             "colorbar": {
              "outlinewidth": 0,
              "ticks": ""
             }
            },
            "type": "parcoords"
           }
          ],
          "pie": [
           {
            "automargin": true,
            "type": "pie"
           }
          ],
          "scatter": [
           {
            "fillpattern": {
             "fillmode": "overlay",
             "size": 10,
             "solidity": 0.2
            },
            "type": "scatter"
           }
          ],
          "scatter3d": [
           {
            "line": {
             "colorbar": {
              "outlinewidth": 0,
              "ticks": ""
             }
            },
            "marker": {
             "colorbar": {
              "outlinewidth": 0,
              "ticks": ""
             }
            },
            "type": "scatter3d"
           }
          ],
          "scattercarpet": [
           {
            "marker": {
             "colorbar": {
              "outlinewidth": 0,
              "ticks": ""
             }
            },
            "type": "scattercarpet"
           }
          ],
          "scattergeo": [
           {
            "marker": {
             "colorbar": {
              "outlinewidth": 0,
              "ticks": ""
             }
            },
            "type": "scattergeo"
           }
          ],
          "scattergl": [
           {
            "marker": {
             "colorbar": {
              "outlinewidth": 0,
              "ticks": ""
             }
            },
            "type": "scattergl"
           }
          ],
          "scattermapbox": [
           {
            "marker": {
             "colorbar": {
              "outlinewidth": 0,
              "ticks": ""
             }
            },
            "type": "scattermapbox"
           }
          ],
          "scatterpolar": [
           {
            "marker": {
             "colorbar": {
              "outlinewidth": 0,
              "ticks": ""
             }
            },
            "type": "scatterpolar"
           }
          ],
          "scatterpolargl": [
           {
            "marker": {
             "colorbar": {
              "outlinewidth": 0,
              "ticks": ""
             }
            },
            "type": "scatterpolargl"
           }
          ],
          "scatterternary": [
           {
            "marker": {
             "colorbar": {
              "outlinewidth": 0,
              "ticks": ""
             }
            },
            "type": "scatterternary"
           }
          ],
          "surface": [
           {
            "colorbar": {
             "outlinewidth": 0,
             "ticks": ""
            },
            "colorscale": [
             [
              0,
              "#0d0887"
             ],
             [
              0.1111111111111111,
              "#46039f"
             ],
             [
              0.2222222222222222,
              "#7201a8"
             ],
             [
              0.3333333333333333,
              "#9c179e"
             ],
             [
              0.4444444444444444,
              "#bd3786"
             ],
             [
              0.5555555555555556,
              "#d8576b"
             ],
             [
              0.6666666666666666,
              "#ed7953"
             ],
             [
              0.7777777777777778,
              "#fb9f3a"
             ],
             [
              0.8888888888888888,
              "#fdca26"
             ],
             [
              1,
              "#f0f921"
             ]
            ],
            "type": "surface"
           }
          ],
          "table": [
           {
            "cells": {
             "fill": {
              "color": "#EBF0F8"
             },
             "line": {
              "color": "white"
             }
            },
            "header": {
             "fill": {
              "color": "#C8D4E3"
             },
             "line": {
              "color": "white"
             }
            },
            "type": "table"
           }
          ]
         },
         "layout": {
          "annotationdefaults": {
           "arrowcolor": "#2a3f5f",
           "arrowhead": 0,
           "arrowwidth": 1
          },
          "autotypenumbers": "strict",
          "coloraxis": {
           "colorbar": {
            "outlinewidth": 0,
            "ticks": ""
           }
          },
          "colorscale": {
           "diverging": [
            [
             0,
             "#8e0152"
            ],
            [
             0.1,
             "#c51b7d"
            ],
            [
             0.2,
             "#de77ae"
            ],
            [
             0.3,
             "#f1b6da"
            ],
            [
             0.4,
             "#fde0ef"
            ],
            [
             0.5,
             "#f7f7f7"
            ],
            [
             0.6,
             "#e6f5d0"
            ],
            [
             0.7,
             "#b8e186"
            ],
            [
             0.8,
             "#7fbc41"
            ],
            [
             0.9,
             "#4d9221"
            ],
            [
             1,
             "#276419"
            ]
           ],
           "sequential": [
            [
             0,
             "#0d0887"
            ],
            [
             0.1111111111111111,
             "#46039f"
            ],
            [
             0.2222222222222222,
             "#7201a8"
            ],
            [
             0.3333333333333333,
             "#9c179e"
            ],
            [
             0.4444444444444444,
             "#bd3786"
            ],
            [
             0.5555555555555556,
             "#d8576b"
            ],
            [
             0.6666666666666666,
             "#ed7953"
            ],
            [
             0.7777777777777778,
             "#fb9f3a"
            ],
            [
             0.8888888888888888,
             "#fdca26"
            ],
            [
             1,
             "#f0f921"
            ]
           ],
           "sequentialminus": [
            [
             0,
             "#0d0887"
            ],
            [
             0.1111111111111111,
             "#46039f"
            ],
            [
             0.2222222222222222,
             "#7201a8"
            ],
            [
             0.3333333333333333,
             "#9c179e"
            ],
            [
             0.4444444444444444,
             "#bd3786"
            ],
            [
             0.5555555555555556,
             "#d8576b"
            ],
            [
             0.6666666666666666,
             "#ed7953"
            ],
            [
             0.7777777777777778,
             "#fb9f3a"
            ],
            [
             0.8888888888888888,
             "#fdca26"
            ],
            [
             1,
             "#f0f921"
            ]
           ]
          },
          "colorway": [
           "#636efa",
           "#EF553B",
           "#00cc96",
           "#ab63fa",
           "#FFA15A",
           "#19d3f3",
           "#FF6692",
           "#B6E880",
           "#FF97FF",
           "#FECB52"
          ],
          "font": {
           "color": "#2a3f5f"
          },
          "geo": {
           "bgcolor": "white",
           "lakecolor": "white",
           "landcolor": "#E5ECF6",
           "showlakes": true,
           "showland": true,
           "subunitcolor": "white"
          },
          "hoverlabel": {
           "align": "left"
          },
          "hovermode": "closest",
          "mapbox": {
           "style": "light"
          },
          "paper_bgcolor": "white",
          "plot_bgcolor": "#E5ECF6",
          "polar": {
           "angularaxis": {
            "gridcolor": "white",
            "linecolor": "white",
            "ticks": ""
           },
           "bgcolor": "#E5ECF6",
           "radialaxis": {
            "gridcolor": "white",
            "linecolor": "white",
            "ticks": ""
           }
          },
          "scene": {
           "xaxis": {
            "backgroundcolor": "#E5ECF6",
            "gridcolor": "white",
            "gridwidth": 2,
            "linecolor": "white",
            "showbackground": true,
            "ticks": "",
            "zerolinecolor": "white"
           },
           "yaxis": {
            "backgroundcolor": "#E5ECF6",
            "gridcolor": "white",
            "gridwidth": 2,
            "linecolor": "white",
            "showbackground": true,
            "ticks": "",
            "zerolinecolor": "white"
           },
           "zaxis": {
            "backgroundcolor": "#E5ECF6",
            "gridcolor": "white",
            "gridwidth": 2,
            "linecolor": "white",
            "showbackground": true,
            "ticks": "",
            "zerolinecolor": "white"
           }
          },
          "shapedefaults": {
           "line": {
            "color": "#2a3f5f"
           }
          },
          "ternary": {
           "aaxis": {
            "gridcolor": "white",
            "linecolor": "white",
            "ticks": ""
           },
           "baxis": {
            "gridcolor": "white",
            "linecolor": "white",
            "ticks": ""
           },
           "bgcolor": "#E5ECF6",
           "caxis": {
            "gridcolor": "white",
            "linecolor": "white",
            "ticks": ""
           }
          },
          "title": {
           "x": 0.05
          },
          "xaxis": {
           "automargin": true,
           "gridcolor": "white",
           "linecolor": "white",
           "ticks": "",
           "title": {
            "standoff": 15
           },
           "zerolinecolor": "white",
           "zerolinewidth": 2
          },
          "yaxis": {
           "automargin": true,
           "gridcolor": "white",
           "linecolor": "white",
           "ticks": "",
           "title": {
            "standoff": 15
           },
           "zerolinecolor": "white",
           "zerolinewidth": 2
          }
         }
        },
        "width": 800,
        "xaxis": {
         "mirror": "allticks",
         "rangemode": "tozero",
         "showgrid": false,
         "showline": true,
         "showticklabels": true,
         "tickmode": "array",
         "ticks": "outside",
         "ticktext": [
          "118",
          "130",
          "102",
          "107",
          "122",
          "105",
          "135",
          "109",
          "117",
          "131",
          "56",
          "85",
          "86",
          "70",
          "51",
          "65",
          "50",
          "52",
          "110",
          "115",
          "148",
          "124",
          "136",
          "100",
          "120",
          "143",
          "125",
          "144",
          "104",
          "112",
          "145",
          "140",
          "129",
          "139",
          "141",
          "15",
          "32",
          "14",
          "33",
          "19",
          "46",
          "21",
          "48",
          "10",
          "44",
          "18",
          "5",
          "16",
          "22",
          "4",
          "0",
          "40",
          "17",
          "27",
          "36",
          "31",
          "20",
          "43",
          "23",
          "26",
          "28",
          "39",
          "35",
          "49",
          "6",
          "11",
          "7",
          "24",
          "41",
          "8",
          "13",
          "38",
          "42",
          "29",
          "2",
          "47",
          "25",
          "1",
          "45",
          "30",
          "37",
          "9",
          "34",
          "3",
          "12",
          "87",
          "68",
          "119",
          "60",
          "98",
          "57",
          "93",
          "106",
          "53",
          "62",
          "80",
          "81",
          "69",
          "89",
          "55",
          "99",
          "94",
          "67",
          "82",
          "59",
          "79",
          "90",
          "92",
          "64",
          "88",
          "95",
          "84",
          "96",
          "71",
          "73",
          "61",
          "66",
          "74",
          "91",
          "97",
          "63",
          "78",
          "123",
          "111",
          "114",
          "54",
          "126",
          "133",
          "76",
          "103",
          "116",
          "147",
          "77",
          "137",
          "75",
          "127",
          "149",
          "58",
          "138",
          "108",
          "128",
          "132",
          "83",
          "121",
          "134",
          "101",
          "142",
          "146",
          "72",
          "113"
         ],
         "tickvals": [
          5,
          15,
          25,
          35,
          45,
          55,
          65,
          75,
          85,
          95,
          105,
          115,
          125,
          135,
          145,
          155,
          165,
          175,
          185,
          195,
          205,
          215,
          225,
          235,
          245,
          255,
          265,
          275,
          285,
          295,
          305,
          315,
          325,
          335,
          345,
          355,
          365,
          375,
          385,
          395,
          405,
          415,
          425,
          435,
          445,
          455,
          465,
          475,
          485,
          495,
          505,
          515,
          525,
          535,
          545,
          555,
          565,
          575,
          585,
          595,
          605,
          615,
          625,
          635,
          645,
          655,
          665,
          675,
          685,
          695,
          705,
          715,
          725,
          735,
          745,
          755,
          765,
          775,
          785,
          795,
          805,
          815,
          825,
          835,
          845,
          855,
          865,
          875,
          885,
          895,
          905,
          915,
          925,
          935,
          945,
          955,
          965,
          975,
          985,
          995,
          1005,
          1015,
          1025,
          1035,
          1045,
          1055,
          1065,
          1075,
          1085,
          1095,
          1105,
          1115,
          1125,
          1135,
          1145,
          1155,
          1165,
          1175,
          1185,
          1195,
          1205,
          1215,
          1225,
          1235,
          1245,
          1255,
          1265,
          1275,
          1285,
          1295,
          1305,
          1315,
          1325,
          1335,
          1345,
          1355,
          1365,
          1375,
          1385,
          1395,
          1405,
          1415,
          1425,
          1435,
          1445,
          1455,
          1465,
          1475,
          1485,
          1495
         ],
         "type": "linear",
         "zeroline": false
        },
        "yaxis": {
         "mirror": "allticks",
         "rangemode": "tozero",
         "showgrid": false,
         "showline": true,
         "showticklabels": true,
         "ticks": "outside",
         "type": "linear",
         "zeroline": false
        }
       }
      },
      "text/html": [
       "<div>                            <div id=\"555d8501-c2bc-44a5-bad7-6c8745100474\" class=\"plotly-graph-div\" style=\"height:500px; width:800px;\"></div>            <script type=\"text/javascript\">                require([\"plotly\"], function(Plotly) {                    window.PLOTLYENV=window.PLOTLYENV || {};                                    if (document.getElementById(\"555d8501-c2bc-44a5-bad7-6c8745100474\")) {                    Plotly.newPlot(                        \"555d8501-c2bc-44a5-bad7-6c8745100474\",                        [{\"hoverinfo\":\"text\",\"marker\":{\"color\":\"rgb(0,116,217)\"},\"mode\":\"lines\",\"x\":[25.0,25.0,35.0,35.0],\"xaxis\":\"x\",\"y\":[0.0,0.1742238526903768,0.1742238526903768,0.0],\"yaxis\":\"y\",\"type\":\"scatter\"},{\"hoverinfo\":\"text\",\"marker\":{\"color\":\"rgb(0,116,217)\"},\"mode\":\"lines\",\"x\":[15.0,15.0,30.0,30.0],\"xaxis\":\"x\",\"y\":[0.0,0.38374369539585446,0.38374369539585446,0.1742238526903768],\"yaxis\":\"y\",\"type\":\"scatter\"},{\"hoverinfo\":\"text\",\"marker\":{\"color\":\"rgb(0,116,217)\"},\"mode\":\"lines\",\"x\":[55.0,55.0,65.0,65.0],\"xaxis\":\"x\",\"y\":[0.0,0.07319361257252509,0.07319361257252509,0.0],\"yaxis\":\"y\",\"type\":\"scatter\"},{\"hoverinfo\":\"text\",\"marker\":{\"color\":\"rgb(0,116,217)\"},\"mode\":\"lines\",\"x\":[45.0,45.0,60.0,60.0],\"xaxis\":\"x\",\"y\":[0.0,0.45738576876521586,0.45738576876521586,0.07319361257252509],\"yaxis\":\"y\",\"type\":\"scatter\"},{\"hoverinfo\":\"text\",\"marker\":{\"color\":\"rgb(0,116,217)\"},\"mode\":\"lines\",\"x\":[22.5,22.5,52.5,52.5],\"xaxis\":\"x\",\"y\":[0.38374369539585446,0.7092374678608773,0.7092374678608773,0.45738576876521586],\"yaxis\":\"y\",\"type\":\"scatter\"},{\"hoverinfo\":\"text\",\"marker\":{\"color\":\"rgb(0,116,217)\"},\"mode\":\"lines\",\"x\":[5.0,5.0,37.5,37.5],\"xaxis\":\"x\",\"y\":[0.0,1.2353990195988571,1.2353990195988571,0.7092374678608773],\"yaxis\":\"y\",\"type\":\"scatter\"},{\"hoverinfo\":\"text\",\"marker\":{\"color\":\"rgb(0,116,217)\"},\"mode\":\"lines\",\"x\":[85.0,85.0,95.0,95.0],\"xaxis\":\"x\",\"y\":[0.0,0.13975972015707447,0.13975972015707447,0.0],\"yaxis\":\"y\",\"type\":\"scatter\"},{\"hoverinfo\":\"text\",\"marker\":{\"color\":\"rgb(0,116,217)\"},\"mode\":\"lines\",\"x\":[75.0,75.0,90.0,90.0],\"xaxis\":\"x\",\"y\":[0.0,0.7064096921199904,0.7064096921199904,0.13975972015707447],\"yaxis\":\"y\",\"type\":\"scatter\"},{\"hoverinfo\":\"text\",\"marker\":{\"color\":\"rgb(0,116,217)\"},\"mode\":\"lines\",\"x\":[105.0,105.0,115.0,115.0],\"xaxis\":\"x\",\"y\":[0.0,0.3260194072991156,0.3260194072991156,0.0],\"yaxis\":\"y\",\"type\":\"scatter\"},{\"hoverinfo\":\"text\",\"marker\":{\"color\":\"rgb(0,116,217)\"},\"mode\":\"lines\",\"x\":[145.0,145.0,155.0,155.0],\"xaxis\":\"x\",\"y\":[0.0,0.16859051404210929,0.16859051404210929,0.0],\"yaxis\":\"y\",\"type\":\"scatter\"},{\"hoverinfo\":\"text\",\"marker\":{\"color\":\"rgb(0,116,217)\"},\"mode\":\"lines\",\"x\":[135.0,135.0,150.0,150.0],\"xaxis\":\"x\",\"y\":[0.0,0.19625016991683483,0.19625016991683483,0.16859051404210929],\"yaxis\":\"y\",\"type\":\"scatter\"},{\"hoverinfo\":\"text\",\"marker\":{\"color\":\"rgb(0,116,217)\"},\"mode\":\"lines\",\"x\":[125.0,125.0,142.5,142.5],\"xaxis\":\"x\",\"y\":[0.0,0.3333967025086715,0.3333967025086715,0.19625016991683483],\"yaxis\":\"y\",\"type\":\"scatter\"},{\"hoverinfo\":\"text\",\"marker\":{\"color\":\"rgb(0,116,217)\"},\"mode\":\"lines\",\"x\":[110.0,110.0,133.75,133.75],\"xaxis\":\"x\",\"y\":[0.3260194072991156,0.7016522439728989,0.7016522439728989,0.3333967025086715],\"yaxis\":\"y\",\"type\":\"scatter\"},{\"hoverinfo\":\"text\",\"marker\":{\"color\":\"rgb(0,116,217)\"},\"mode\":\"lines\",\"x\":[175.0,175.0,185.0,185.0],\"xaxis\":\"x\",\"y\":[0.0,0.1469261044767663,0.1469261044767663,0.0],\"yaxis\":\"y\",\"type\":\"scatter\"},{\"hoverinfo\":\"text\",\"marker\":{\"color\":\"rgb(0,116,217)\"},\"mode\":\"lines\",\"x\":[165.0,165.0,180.0,180.0],\"xaxis\":\"x\",\"y\":[0.0,0.3117955583379414,0.3117955583379414,0.1469261044767663],\"yaxis\":\"y\",\"type\":\"scatter\"},{\"hoverinfo\":\"text\",\"marker\":{\"color\":\"rgb(0,116,217)\"},\"mode\":\"lines\",\"x\":[215.0,215.0,225.0,225.0],\"xaxis\":\"x\",\"y\":[0.0,0.13710992661168936,0.13710992661168936,0.0],\"yaxis\":\"y\",\"type\":\"scatter\"},{\"hoverinfo\":\"text\",\"marker\":{\"color\":\"rgb(0,116,217)\"},\"mode\":\"lines\",\"x\":[205.0,205.0,220.0,220.0],\"xaxis\":\"x\",\"y\":[0.0,0.32785699012283254,0.32785699012283254,0.13710992661168936],\"yaxis\":\"y\",\"type\":\"scatter\"},{\"hoverinfo\":\"text\",\"marker\":{\"color\":\"rgb(0,116,217)\"},\"mode\":\"lines\",\"x\":[195.0,195.0,212.5,212.5],\"xaxis\":\"x\",\"y\":[0.0,0.4019296896133174,0.4019296896133174,0.32785699012283254],\"yaxis\":\"y\",\"type\":\"scatter\"},{\"hoverinfo\":\"text\",\"marker\":{\"color\":\"rgb(0,116,217)\"},\"mode\":\"lines\",\"x\":[172.5,172.5,203.75,203.75],\"xaxis\":\"x\",\"y\":[0.3117955583379414,0.6189575064916504,0.6189575064916504,0.4019296896133174],\"yaxis\":\"y\",\"type\":\"scatter\"},{\"hoverinfo\":\"text\",\"marker\":{\"color\":\"rgb(0,116,217)\"},\"mode\":\"lines\",\"x\":[245.0,245.0,255.0,255.0],\"xaxis\":\"x\",\"y\":[0.0,0.042806358020714586,0.042806358020714586,0.0],\"yaxis\":\"y\",\"type\":\"scatter\"},{\"hoverinfo\":\"text\",\"marker\":{\"color\":\"rgb(0,116,217)\"},\"mode\":\"lines\",\"x\":[265.0,265.0,275.0,275.0],\"xaxis\":\"x\",\"y\":[0.0,0.06306517628686484,0.06306517628686484,0.0],\"yaxis\":\"y\",\"type\":\"scatter\"},{\"hoverinfo\":\"text\",\"marker\":{\"color\":\"rgb(0,116,217)\"},\"mode\":\"lines\",\"x\":[250.0,250.0,270.0,270.0],\"xaxis\":\"x\",\"y\":[0.042806358020714586,0.18851634764369515,0.18851634764369515,0.06306517628686484],\"yaxis\":\"y\",\"type\":\"scatter\"},{\"hoverinfo\":\"text\",\"marker\":{\"color\":\"rgb(0,116,217)\"},\"mode\":\"lines\",\"x\":[235.0,235.0,260.0,260.0],\"xaxis\":\"x\",\"y\":[0.0,0.23451818445284778,0.23451818445284778,0.18851634764369515],\"yaxis\":\"y\",\"type\":\"scatter\"},{\"hoverinfo\":\"text\",\"marker\":{\"color\":\"rgb(0,116,217)\"},\"mode\":\"lines\",\"x\":[295.0,295.0,305.0,305.0],\"xaxis\":\"x\",\"y\":[0.0,0.034372154742527125,0.034372154742527125,0.0],\"yaxis\":\"y\",\"type\":\"scatter\"},{\"hoverinfo\":\"text\",\"marker\":{\"color\":\"rgb(0,116,217)\"},\"mode\":\"lines\",\"x\":[285.0,285.0,300.0,300.0],\"xaxis\":\"x\",\"y\":[0.0,0.12422212395013217,0.12422212395013217,0.034372154742527125],\"yaxis\":\"y\",\"type\":\"scatter\"},{\"hoverinfo\":\"text\",\"marker\":{\"color\":\"rgb(0,116,217)\"},\"mode\":\"lines\",\"x\":[335.0,335.0,345.0,345.0],\"xaxis\":\"x\",\"y\":[0.0,0.05139741229310824,0.05139741229310824,0.0],\"yaxis\":\"y\",\"type\":\"scatter\"},{\"hoverinfo\":\"text\",\"marker\":{\"color\":\"rgb(0,116,217)\"},\"mode\":\"lines\",\"x\":[325.0,325.0,340.0,340.0],\"xaxis\":\"x\",\"y\":[0.0,0.13615265946754676,0.13615265946754676,0.05139741229310824],\"yaxis\":\"y\",\"type\":\"scatter\"},{\"hoverinfo\":\"text\",\"marker\":{\"color\":\"rgb(0,116,217)\"},\"mode\":\"lines\",\"x\":[315.0,315.0,332.5,332.5],\"xaxis\":\"x\",\"y\":[0.0,0.17403345329248476,0.17403345329248476,0.13615265946754676],\"yaxis\":\"y\",\"type\":\"scatter\"},{\"hoverinfo\":\"text\",\"marker\":{\"color\":\"rgb(0,116,217)\"},\"mode\":\"lines\",\"x\":[292.5,292.5,323.75,323.75],\"xaxis\":\"x\",\"y\":[0.12422212395013217,0.3964003204597154,0.3964003204597154,0.17403345329248476],\"yaxis\":\"y\",\"type\":\"scatter\"},{\"hoverinfo\":\"text\",\"marker\":{\"color\":\"rgb(0,116,217)\"},\"mode\":\"lines\",\"x\":[247.5,247.5,308.125,308.125],\"xaxis\":\"x\",\"y\":[0.23451818445284778,0.769085500509102,0.769085500509102,0.3964003204597154],\"yaxis\":\"y\",\"type\":\"scatter\"},{\"hoverinfo\":\"text\",\"marker\":{\"color\":\"rgb(0,116,217)\"},\"mode\":\"lines\",\"x\":[188.125,188.125,277.8125,277.8125],\"xaxis\":\"x\",\"y\":[0.6189575064916504,0.9542697637012855,0.9542697637012855,0.769085500509102],\"yaxis\":\"y\",\"type\":\"scatter\"},{\"hoverinfo\":\"text\",\"marker\":{\"color\":\"rgb(0,116,217)\"},\"mode\":\"lines\",\"x\":[121.875,121.875,232.96875,232.96875],\"xaxis\":\"x\",\"y\":[0.7016522439728989,1.611553563162022,1.611553563162022,0.9542697637012855],\"yaxis\":\"y\",\"type\":\"scatter\"},{\"hoverinfo\":\"text\",\"marker\":{\"color\":\"rgb(0,116,217)\"},\"mode\":\"lines\",\"x\":[82.5,82.5,177.421875,177.421875],\"xaxis\":\"x\",\"y\":[0.7064096921199904,2.743714482287449,2.743714482287449,1.611553563162022],\"yaxis\":\"y\",\"type\":\"scatter\"},{\"hoverinfo\":\"text\",\"marker\":{\"color\":\"rgb(0,116,217)\"},\"mode\":\"lines\",\"x\":[21.25,21.25,129.9609375,129.9609375],\"xaxis\":\"x\",\"y\":[1.2353990195988571,3.0024144315110606,3.0024144315110606,2.743714482287449],\"yaxis\":\"y\",\"type\":\"scatter\"},{\"hoverinfo\":\"text\",\"marker\":{\"color\":\"rgb(0,116,217)\"},\"mode\":\"lines\",\"x\":[375.0,375.0,385.0,385.0],\"xaxis\":\"x\",\"y\":[0.0,0.3842101223880753,0.3842101223880753,0.0],\"yaxis\":\"y\",\"type\":\"scatter\"},{\"hoverinfo\":\"text\",\"marker\":{\"color\":\"rgb(0,116,217)\"},\"mode\":\"lines\",\"x\":[365.0,365.0,380.0,380.0],\"xaxis\":\"x\",\"y\":[0.0,0.42043420056182423,0.42043420056182423,0.3842101223880753],\"yaxis\":\"y\",\"type\":\"scatter\"},{\"hoverinfo\":\"text\",\"marker\":{\"color\":\"rgb(0,116,217)\"},\"mode\":\"lines\",\"x\":[355.0,355.0,372.5,372.5],\"xaxis\":\"x\",\"y\":[0.0,0.9624508321318369,0.9624508321318369,0.42043420056182423],\"yaxis\":\"y\",\"type\":\"scatter\"},{\"hoverinfo\":\"text\",\"marker\":{\"color\":\"rgb(0,116,217)\"},\"mode\":\"lines\",\"x\":[395.0,395.0,405.0,405.0],\"xaxis\":\"x\",\"y\":[0.0,0.04196686728486643,0.04196686728486643,0.0],\"yaxis\":\"y\",\"type\":\"scatter\"},{\"hoverinfo\":\"text\",\"marker\":{\"color\":\"rgb(0,116,217)\"},\"mode\":\"lines\",\"x\":[415.0,415.0,425.0,425.0],\"xaxis\":\"x\",\"y\":[0.0,0.07630648304882488,0.07630648304882488,0.0],\"yaxis\":\"y\",\"type\":\"scatter\"},{\"hoverinfo\":\"text\",\"marker\":{\"color\":\"rgb(0,116,217)\"},\"mode\":\"lines\",\"x\":[435.0,435.0,445.0,445.0],\"xaxis\":\"x\",\"y\":[0.0,0.10523708126474898,0.10523708126474898,0.0],\"yaxis\":\"y\",\"type\":\"scatter\"},{\"hoverinfo\":\"text\",\"marker\":{\"color\":\"rgb(0,116,217)\"},\"mode\":\"lines\",\"x\":[420.0,420.0,440.0,440.0],\"xaxis\":\"x\",\"y\":[0.07630648304882488,0.23028186877490914,0.23028186877490914,0.10523708126474898],\"yaxis\":\"y\",\"type\":\"scatter\"},{\"hoverinfo\":\"text\",\"marker\":{\"color\":\"rgb(0,116,217)\"},\"mode\":\"lines\",\"x\":[400.0,400.0,430.0,430.0],\"xaxis\":\"x\",\"y\":[0.04196686728486643,0.26545343806974503,0.26545343806974503,0.23028186877490914],\"yaxis\":\"y\",\"type\":\"scatter\"},{\"hoverinfo\":\"text\",\"marker\":{\"color\":\"rgb(0,116,217)\"},\"mode\":\"lines\",\"x\":[465.0,465.0,475.0,475.0],\"xaxis\":\"x\",\"y\":[0.0,0.13230071340335986,0.13230071340335986,0.0],\"yaxis\":\"y\",\"type\":\"scatter\"},{\"hoverinfo\":\"text\",\"marker\":{\"color\":\"rgb(0,116,217)\"},\"mode\":\"lines\",\"x\":[455.0,455.0,470.0,470.0],\"xaxis\":\"x\",\"y\":[0.0,0.3195470042292052,0.3195470042292052,0.13230071340335986],\"yaxis\":\"y\",\"type\":\"scatter\"},{\"hoverinfo\":\"text\",\"marker\":{\"color\":\"rgb(0,116,217)\"},\"mode\":\"lines\",\"x\":[415.0,415.0,462.5,462.5],\"xaxis\":\"x\",\"y\":[0.26545343806974503,0.581759751920327,0.581759751920327,0.3195470042292052],\"yaxis\":\"y\",\"type\":\"scatter\"},{\"hoverinfo\":\"text\",\"marker\":{\"color\":\"rgb(0,116,217)\"},\"mode\":\"lines\",\"x\":[505.0,505.0,515.0,515.0],\"xaxis\":\"x\",\"y\":[0.0,0.0436528547251211,0.0436528547251211,0.0],\"yaxis\":\"y\",\"type\":\"scatter\"},{\"hoverinfo\":\"text\",\"marker\":{\"color\":\"rgb(0,116,217)\"},\"mode\":\"lines\",\"x\":[525.0,525.0,535.0,535.0],\"xaxis\":\"x\",\"y\":[0.0,0.043652854725122765,0.043652854725122765,0.0],\"yaxis\":\"y\",\"type\":\"scatter\"},{\"hoverinfo\":\"text\",\"marker\":{\"color\":\"rgb(0,116,217)\"},\"mode\":\"lines\",\"x\":[510.0,510.0,530.0,530.0],\"xaxis\":\"x\",\"y\":[0.0436528547251211,0.1451309789534469,0.1451309789534469,0.043652854725122765],\"yaxis\":\"y\",\"type\":\"scatter\"},{\"hoverinfo\":\"text\",\"marker\":{\"color\":\"rgb(0,116,217)\"},\"mode\":\"lines\",\"x\":[495.0,495.0,520.0,520.0],\"xaxis\":\"x\",\"y\":[0.0,0.2553227356318862,0.2553227356318862,0.1451309789534469],\"yaxis\":\"y\",\"type\":\"scatter\"},{\"hoverinfo\":\"text\",\"marker\":{\"color\":\"rgb(0,116,217)\"},\"mode\":\"lines\",\"x\":[565.0,565.0,575.0,575.0],\"xaxis\":\"x\",\"y\":[0.0,0.08337577355010889,0.08337577355010889,0.0],\"yaxis\":\"y\",\"type\":\"scatter\"},{\"hoverinfo\":\"text\",\"marker\":{\"color\":\"rgb(0,116,217)\"},\"mode\":\"lines\",\"x\":[555.0,555.0,570.0,570.0],\"xaxis\":\"x\",\"y\":[0.0,0.14223637132454783,0.14223637132454783,0.08337577355010889],\"yaxis\":\"y\",\"type\":\"scatter\"},{\"hoverinfo\":\"text\",\"marker\":{\"color\":\"rgb(0,116,217)\"},\"mode\":\"lines\",\"x\":[545.0,545.0,562.5,562.5],\"xaxis\":\"x\",\"y\":[0.0,0.32030950294232546,0.32030950294232546,0.14223637132454783],\"yaxis\":\"y\",\"type\":\"scatter\"},{\"hoverinfo\":\"text\",\"marker\":{\"color\":\"rgb(0,116,217)\"},\"mode\":\"lines\",\"x\":[507.5,507.5,553.75,553.75],\"xaxis\":\"x\",\"y\":[0.2553227356318862,0.6022795159216785,0.6022795159216785,0.32030950294232546],\"yaxis\":\"y\",\"type\":\"scatter\"},{\"hoverinfo\":\"text\",\"marker\":{\"color\":\"rgb(0,116,217)\"},\"mode\":\"lines\",\"x\":[605.0,605.0,615.0,615.0],\"xaxis\":\"x\",\"y\":[0.0,0.05331907673260611,0.05331907673260611,0.0],\"yaxis\":\"y\",\"type\":\"scatter\"},{\"hoverinfo\":\"text\",\"marker\":{\"color\":\"rgb(0,116,217)\"},\"mode\":\"lines\",\"x\":[595.0,595.0,610.0,610.0],\"xaxis\":\"x\",\"y\":[0.0,0.1214578018438611,0.1214578018438611,0.05331907673260611],\"yaxis\":\"y\",\"type\":\"scatter\"},{\"hoverinfo\":\"text\",\"marker\":{\"color\":\"rgb(0,116,217)\"},\"mode\":\"lines\",\"x\":[585.0,585.0,602.5,602.5],\"xaxis\":\"x\",\"y\":[0.0,0.3964619758082047,0.3964619758082047,0.1214578018438611],\"yaxis\":\"y\",\"type\":\"scatter\"},{\"hoverinfo\":\"text\",\"marker\":{\"color\":\"rgb(0,116,217)\"},\"mode\":\"lines\",\"x\":[625.0,625.0,635.0,635.0],\"xaxis\":\"x\",\"y\":[0.0,0.21663725311855764,0.21663725311855764,0.0],\"yaxis\":\"y\",\"type\":\"scatter\"},{\"hoverinfo\":\"text\",\"marker\":{\"color\":\"rgb(0,116,217)\"},\"mode\":\"lines\",\"x\":[665.0,665.0,675.0,675.0],\"xaxis\":\"x\",\"y\":[0.0,0.08561271604142928,0.08561271604142928,0.0],\"yaxis\":\"y\",\"type\":\"scatter\"},{\"hoverinfo\":\"text\",\"marker\":{\"color\":\"rgb(0,116,217)\"},\"mode\":\"lines\",\"x\":[655.0,655.0,670.0,670.0],\"xaxis\":\"x\",\"y\":[0.0,0.12913046641490014,0.12913046641490014,0.08561271604142928],\"yaxis\":\"y\",\"type\":\"scatter\"},{\"hoverinfo\":\"text\",\"marker\":{\"color\":\"rgb(0,116,217)\"},\"mode\":\"lines\",\"x\":[645.0,645.0,662.5,662.5],\"xaxis\":\"x\",\"y\":[0.0,0.2735606229099881,0.2735606229099881,0.12913046641490014],\"yaxis\":\"y\",\"type\":\"scatter\"},{\"hoverinfo\":\"text\",\"marker\":{\"color\":\"rgb(0,116,217)\"},\"mode\":\"lines\",\"x\":[630.0,630.0,653.75,653.75],\"xaxis\":\"x\",\"y\":[0.21663725311855764,0.4325489512436783,0.4325489512436783,0.2735606229099881],\"yaxis\":\"y\",\"type\":\"scatter\"},{\"hoverinfo\":\"text\",\"marker\":{\"color\":\"rgb(0,116,217)\"},\"mode\":\"lines\",\"x\":[593.75,593.75,641.875,641.875],\"xaxis\":\"x\",\"y\":[0.3964619758082047,0.6261276907800091,0.6261276907800091,0.4325489512436783],\"yaxis\":\"y\",\"type\":\"scatter\"},{\"hoverinfo\":\"text\",\"marker\":{\"color\":\"rgb(0,116,217)\"},\"mode\":\"lines\",\"x\":[530.625,530.625,617.8125,617.8125],\"xaxis\":\"x\",\"y\":[0.6022795159216785,0.8851341628602782,0.8851341628602782,0.6261276907800091],\"yaxis\":\"y\",\"type\":\"scatter\"},{\"hoverinfo\":\"text\",\"marker\":{\"color\":\"rgb(0,116,217)\"},\"mode\":\"lines\",\"x\":[485.0,485.0,574.21875,574.21875],\"xaxis\":\"x\",\"y\":[0.0,1.0276987650236058,1.0276987650236058,0.8851341628602782],\"yaxis\":\"y\",\"type\":\"scatter\"},{\"hoverinfo\":\"text\",\"marker\":{\"color\":\"rgb(0,116,217)\"},\"mode\":\"lines\",\"x\":[438.75,438.75,529.609375,529.609375],\"xaxis\":\"x\",\"y\":[0.581759751920327,1.7086794888692798,1.7086794888692798,1.0276987650236058],\"yaxis\":\"y\",\"type\":\"scatter\"},{\"hoverinfo\":\"text\",\"marker\":{\"color\":\"rgb(0,116,217)\"},\"mode\":\"lines\",\"x\":[363.75,363.75,484.1796875,484.1796875],\"xaxis\":\"x\",\"y\":[0.9624508321318369,2.9069888715125725,2.9069888715125725,1.7086794888692798],\"yaxis\":\"y\",\"type\":\"scatter\"},{\"hoverinfo\":\"text\",\"marker\":{\"color\":\"rgb(0,116,217)\"},\"mode\":\"lines\",\"x\":[705.0,705.0,715.0,715.0],\"xaxis\":\"x\",\"y\":[0.0,0.21134902766696692,0.21134902766696692,0.0],\"yaxis\":\"y\",\"type\":\"scatter\"},{\"hoverinfo\":\"text\",\"marker\":{\"color\":\"rgb(0,116,217)\"},\"mode\":\"lines\",\"x\":[695.0,695.0,710.0,710.0],\"xaxis\":\"x\",\"y\":[0.0,0.33655104878654146,0.33655104878654146,0.21134902766696692],\"yaxis\":\"y\",\"type\":\"scatter\"},{\"hoverinfo\":\"text\",\"marker\":{\"color\":\"rgb(0,116,217)\"},\"mode\":\"lines\",\"x\":[745.0,745.0,755.0,755.0],\"xaxis\":\"x\",\"y\":[0.0,0.05331907673260593,0.05331907673260593,0.0],\"yaxis\":\"y\",\"type\":\"scatter\"},{\"hoverinfo\":\"text\",\"marker\":{\"color\":\"rgb(0,116,217)\"},\"mode\":\"lines\",\"x\":[735.0,735.0,750.0,750.0],\"xaxis\":\"x\",\"y\":[0.0,0.13784829338354523,0.13784829338354523,0.05331907673260593],\"yaxis\":\"y\",\"type\":\"scatter\"},{\"hoverinfo\":\"text\",\"marker\":{\"color\":\"rgb(0,116,217)\"},\"mode\":\"lines\",\"x\":[725.0,725.0,742.5,742.5],\"xaxis\":\"x\",\"y\":[0.0,0.3207027754018822,0.3207027754018822,0.13784829338354523],\"yaxis\":\"y\",\"type\":\"scatter\"},{\"hoverinfo\":\"text\",\"marker\":{\"color\":\"rgb(0,116,217)\"},\"mode\":\"lines\",\"x\":[775.0,775.0,785.0,785.0],\"xaxis\":\"x\",\"y\":[0.0,0.03815324152441231,0.03815324152441231,0.0],\"yaxis\":\"y\",\"type\":\"scatter\"},{\"hoverinfo\":\"text\",\"marker\":{\"color\":\"rgb(0,116,217)\"},\"mode\":\"lines\",\"x\":[765.0,765.0,780.0,780.0],\"xaxis\":\"x\",\"y\":[0.0,0.14513097895344707,0.14513097895344707,0.03815324152441231],\"yaxis\":\"y\",\"type\":\"scatter\"},{\"hoverinfo\":\"text\",\"marker\":{\"color\":\"rgb(0,116,217)\"},\"mode\":\"lines\",\"x\":[815.0,815.0,825.0,825.0],\"xaxis\":\"x\",\"y\":[0.0,0.0,0.0,0.0],\"yaxis\":\"y\",\"type\":\"scatter\"},{\"hoverinfo\":\"text\",\"marker\":{\"color\":\"rgb(0,116,217)\"},\"mode\":\"lines\",\"x\":[805.0,805.0,820.0,820.0],\"xaxis\":\"x\",\"y\":[0.0,0.0,0.0,0.0],\"yaxis\":\"y\",\"type\":\"scatter\"},{\"hoverinfo\":\"text\",\"marker\":{\"color\":\"rgb(0,116,217)\"},\"mode\":\"lines\",\"x\":[795.0,795.0,812.5,812.5],\"xaxis\":\"x\",\"y\":[0.0,0.0565128551558617,0.0565128551558617,0.0],\"yaxis\":\"y\",\"type\":\"scatter\"},{\"hoverinfo\":\"text\",\"marker\":{\"color\":\"rgb(0,116,217)\"},\"mode\":\"lines\",\"x\":[835.0,835.0,845.0,845.0],\"xaxis\":\"x\",\"y\":[0.0,0.15590864319878112,0.15590864319878112,0.0],\"yaxis\":\"y\",\"type\":\"scatter\"},{\"hoverinfo\":\"text\",\"marker\":{\"color\":\"rgb(0,116,217)\"},\"mode\":\"lines\",\"x\":[803.75,803.75,840.0,840.0],\"xaxis\":\"x\",\"y\":[0.0565128551558617,0.26288444146414375,0.26288444146414375,0.15590864319878112],\"yaxis\":\"y\",\"type\":\"scatter\"},{\"hoverinfo\":\"text\",\"marker\":{\"color\":\"rgb(0,116,217)\"},\"mode\":\"lines\",\"x\":[772.5,772.5,821.875,821.875],\"xaxis\":\"x\",\"y\":[0.14513097895344707,0.34869336804184525,0.34869336804184525,0.26288444146414375],\"yaxis\":\"y\",\"type\":\"scatter\"},{\"hoverinfo\":\"text\",\"marker\":{\"color\":\"rgb(0,116,217)\"},\"mode\":\"lines\",\"x\":[733.75,733.75,797.1875,797.1875],\"xaxis\":\"x\",\"y\":[0.3207027754018822,0.6202520639239192,0.6202520639239192,0.34869336804184525],\"yaxis\":\"y\",\"type\":\"scatter\"},{\"hoverinfo\":\"text\",\"marker\":{\"color\":\"rgb(0,116,217)\"},\"mode\":\"lines\",\"x\":[702.5,702.5,765.46875,765.46875],\"xaxis\":\"x\",\"y\":[0.33655104878654146,0.7836907919106648,0.7836907919106648,0.6202520639239192],\"yaxis\":\"y\",\"type\":\"scatter\"},{\"hoverinfo\":\"text\",\"marker\":{\"color\":\"rgb(0,116,217)\"},\"mode\":\"lines\",\"x\":[685.0,685.0,733.984375,733.984375],\"xaxis\":\"x\",\"y\":[0.0,2.0695891918900102,2.0695891918900102,0.7836907919106648],\"yaxis\":\"y\",\"type\":\"scatter\"},{\"hoverinfo\":\"text\",\"marker\":{\"color\":\"rgb(0,116,217)\"},\"mode\":\"lines\",\"x\":[865.0,865.0,875.0,875.0],\"xaxis\":\"x\",\"y\":[0.0,0.09268419554363144,0.09268419554363144,0.0],\"yaxis\":\"y\",\"type\":\"scatter\"},{\"hoverinfo\":\"text\",\"marker\":{\"color\":\"rgb(0,116,217)\"},\"mode\":\"lines\",\"x\":[855.0,855.0,870.0,870.0],\"xaxis\":\"x\",\"y\":[0.0,0.391497278092058,0.391497278092058,0.09268419554363144],\"yaxis\":\"y\",\"type\":\"scatter\"},{\"hoverinfo\":\"text\",\"marker\":{\"color\":\"rgb(0,116,217)\"},\"mode\":\"lines\",\"x\":[905.0,905.0,915.0,915.0],\"xaxis\":\"x\",\"y\":[0.0,0.20980226479244987,0.20980226479244987,0.0],\"yaxis\":\"y\",\"type\":\"scatter\"},{\"hoverinfo\":\"text\",\"marker\":{\"color\":\"rgb(0,116,217)\"},\"mode\":\"lines\",\"x\":[895.0,895.0,910.0,910.0],\"xaxis\":\"x\",\"y\":[0.0,0.485679413198254,0.485679413198254,0.20980226479244987],\"yaxis\":\"y\",\"type\":\"scatter\"},{\"hoverinfo\":\"text\",\"marker\":{\"color\":\"rgb(0,116,217)\"},\"mode\":\"lines\",\"x\":[935.0,935.0,945.0,945.0],\"xaxis\":\"x\",\"y\":[0.0,0.15499823689709485,0.15499823689709485,0.0],\"yaxis\":\"y\",\"type\":\"scatter\"},{\"hoverinfo\":\"text\",\"marker\":{\"color\":\"rgb(0,116,217)\"},\"mode\":\"lines\",\"x\":[925.0,925.0,940.0,940.0],\"xaxis\":\"x\",\"y\":[0.0,0.2872280521239681,0.2872280521239681,0.15499823689709485],\"yaxis\":\"y\",\"type\":\"scatter\"},{\"hoverinfo\":\"text\",\"marker\":{\"color\":\"rgb(0,116,217)\"},\"mode\":\"lines\",\"x\":[955.0,955.0,965.0,965.0],\"xaxis\":\"x\",\"y\":[0.0,0.10786210118850599,0.10786210118850599,0.0],\"yaxis\":\"y\",\"type\":\"scatter\"},{\"hoverinfo\":\"text\",\"marker\":{\"color\":\"rgb(0,116,217)\"},\"mode\":\"lines\",\"x\":[975.0,975.0,985.0,985.0],\"xaxis\":\"x\",\"y\":[0.0,0.12145780184386136,0.12145780184386136,0.0],\"yaxis\":\"y\",\"type\":\"scatter\"},{\"hoverinfo\":\"text\",\"marker\":{\"color\":\"rgb(0,116,217)\"},\"mode\":\"lines\",\"x\":[960.0,960.0,980.0,980.0],\"xaxis\":\"x\",\"y\":[0.10786210118850599,0.35722646540345715,0.35722646540345715,0.12145780184386136],\"yaxis\":\"y\",\"type\":\"scatter\"},{\"hoverinfo\":\"text\",\"marker\":{\"color\":\"rgb(0,116,217)\"},\"mode\":\"lines\",\"x\":[932.5,932.5,970.0,970.0],\"xaxis\":\"x\",\"y\":[0.2872280521239681,0.6133451557743762,0.6133451557743762,0.35722646540345715],\"yaxis\":\"y\",\"type\":\"scatter\"},{\"hoverinfo\":\"text\",\"marker\":{\"color\":\"rgb(0,116,217)\"},\"mode\":\"lines\",\"x\":[902.5,902.5,951.25,951.25],\"xaxis\":\"x\",\"y\":[0.485679413198254,1.052266347397016,1.052266347397016,0.6133451557743762],\"yaxis\":\"y\",\"type\":\"scatter\"},{\"hoverinfo\":\"text\",\"marker\":{\"color\":\"rgb(0,116,217)\"},\"mode\":\"lines\",\"x\":[885.0,885.0,926.875,926.875],\"xaxis\":\"x\",\"y\":[0.0,1.3872049254999175,1.3872049254999175,1.052266347397016],\"yaxis\":\"y\",\"type\":\"scatter\"},{\"hoverinfo\":\"text\",\"marker\":{\"color\":\"rgb(0,116,217)\"},\"mode\":\"lines\",\"x\":[862.5,862.5,905.9375,905.9375],\"xaxis\":\"x\",\"y\":[0.391497278092058,1.7567567971940705,1.7567567971940705,1.3872049254999175],\"yaxis\":\"y\",\"type\":\"scatter\"},{\"hoverinfo\":\"text\",\"marker\":{\"color\":\"rgb(0,116,217)\"},\"mode\":\"lines\",\"x\":[995.0,995.0,1005.0,1005.0],\"xaxis\":\"x\",\"y\":[0.0,0.13230071340336022,0.13230071340336022,0.0],\"yaxis\":\"y\",\"type\":\"scatter\"},{\"hoverinfo\":\"text\",\"marker\":{\"color\":\"rgb(0,116,217)\"},\"mode\":\"lines\",\"x\":[1025.0,1025.0,1035.0,1035.0],\"xaxis\":\"x\",\"y\":[0.0,0.08393373456973277,0.08393373456973277,0.0],\"yaxis\":\"y\",\"type\":\"scatter\"},{\"hoverinfo\":\"text\",\"marker\":{\"color\":\"rgb(0,116,217)\"},\"mode\":\"lines\",\"x\":[1015.0,1015.0,1030.0,1030.0],\"xaxis\":\"x\",\"y\":[0.0,0.14415651931954457,0.14415651931954457,0.08393373456973277],\"yaxis\":\"y\",\"type\":\"scatter\"},{\"hoverinfo\":\"text\",\"marker\":{\"color\":\"rgb(0,116,217)\"},\"mode\":\"lines\",\"x\":[1000.0,1000.0,1022.5,1022.5],\"xaxis\":\"x\",\"y\":[0.13230071340336022,0.305379470274238,0.305379470274238,0.14415651931954457],\"yaxis\":\"y\",\"type\":\"scatter\"},{\"hoverinfo\":\"text\",\"marker\":{\"color\":\"rgb(0,116,217)\"},\"mode\":\"lines\",\"x\":[1045.0,1045.0,1055.0,1055.0],\"xaxis\":\"x\",\"y\":[0.0,0.05919022499216805,0.05919022499216805,0.0],\"yaxis\":\"y\",\"type\":\"scatter\"},{\"hoverinfo\":\"text\",\"marker\":{\"color\":\"rgb(0,116,217)\"},\"mode\":\"lines\",\"x\":[1065.0,1065.0,1075.0,1075.0],\"xaxis\":\"x\",\"y\":[0.0,0.14271216373112017,0.14271216373112017,0.0],\"yaxis\":\"y\",\"type\":\"scatter\"},{\"hoverinfo\":\"text\",\"marker\":{\"color\":\"rgb(0,116,217)\"},\"mode\":\"lines\",\"x\":[1050.0,1050.0,1070.0,1070.0],\"xaxis\":\"x\",\"y\":[0.05919022499216805,0.3834212740664655,0.3834212740664655,0.14271216373112017],\"yaxis\":\"y\",\"type\":\"scatter\"},{\"hoverinfo\":\"text\",\"marker\":{\"color\":\"rgb(0,116,217)\"},\"mode\":\"lines\",\"x\":[1011.25,1011.25,1060.0,1060.0],\"xaxis\":\"x\",\"y\":[0.305379470274238,0.6353698952974263,0.6353698952974263,0.3834212740664655],\"yaxis\":\"y\",\"type\":\"scatter\"},{\"hoverinfo\":\"text\",\"marker\":{\"color\":\"rgb(0,116,217)\"},\"mode\":\"lines\",\"x\":[1095.0,1095.0,1105.0,1105.0],\"xaxis\":\"x\",\"y\":[0.0,0.04365285472512276,0.04365285472512276,0.0],\"yaxis\":\"y\",\"type\":\"scatter\"},{\"hoverinfo\":\"text\",\"marker\":{\"color\":\"rgb(0,116,217)\"},\"mode\":\"lines\",\"x\":[1115.0,1115.0,1125.0,1125.0],\"xaxis\":\"x\",\"y\":[0.0,0.09968032343222658,0.09968032343222658,0.0],\"yaxis\":\"y\",\"type\":\"scatter\"},{\"hoverinfo\":\"text\",\"marker\":{\"color\":\"rgb(0,116,217)\"},\"mode\":\"lines\",\"x\":[1100.0,1100.0,1120.0,1120.0],\"xaxis\":\"x\",\"y\":[0.04365285472512276,0.24610693122596564,0.24610693122596564,0.09968032343222658],\"yaxis\":\"y\",\"type\":\"scatter\"},{\"hoverinfo\":\"text\",\"marker\":{\"color\":\"rgb(0,116,217)\"},\"mode\":\"lines\",\"x\":[1085.0,1085.0,1110.0,1110.0],\"xaxis\":\"x\",\"y\":[0.0,0.30000168920757747,0.30000168920757747,0.24610693122596564],\"yaxis\":\"y\",\"type\":\"scatter\"},{\"hoverinfo\":\"text\",\"marker\":{\"color\":\"rgb(0,116,217)\"},\"mode\":\"lines\",\"x\":[1135.0,1135.0,1145.0,1145.0],\"xaxis\":\"x\",\"y\":[0.0,0.1570114947433402,0.1570114947433402,0.0],\"yaxis\":\"y\",\"type\":\"scatter\"},{\"hoverinfo\":\"text\",\"marker\":{\"color\":\"rgb(0,116,217)\"},\"mode\":\"lines\",\"x\":[1155.0,1155.0,1165.0,1165.0],\"xaxis\":\"x\",\"y\":[0.0,0.15995723019781835,0.15995723019781835,0.0],\"yaxis\":\"y\",\"type\":\"scatter\"},{\"hoverinfo\":\"text\",\"marker\":{\"color\":\"rgb(0,116,217)\"},\"mode\":\"lines\",\"x\":[1175.0,1175.0,1185.0,1185.0],\"xaxis\":\"x\",\"y\":[0.0,0.11942903646680729,0.11942903646680729,0.0],\"yaxis\":\"y\",\"type\":\"scatter\"},{\"hoverinfo\":\"text\",\"marker\":{\"color\":\"rgb(0,116,217)\"},\"mode\":\"lines\",\"x\":[1205.0,1205.0,1215.0,1215.0],\"xaxis\":\"x\",\"y\":[0.0,0.06740481035033656,0.06740481035033656,0.0],\"yaxis\":\"y\",\"type\":\"scatter\"},{\"hoverinfo\":\"text\",\"marker\":{\"color\":\"rgb(0,116,217)\"},\"mode\":\"lines\",\"x\":[1195.0,1195.0,1210.0,1210.0],\"xaxis\":\"x\",\"y\":[0.0,0.14674948296429444,0.14674948296429444,0.06740481035033656],\"yaxis\":\"y\",\"type\":\"scatter\"},{\"hoverinfo\":\"text\",\"marker\":{\"color\":\"rgb(0,116,217)\"},\"mode\":\"lines\",\"x\":[1180.0,1180.0,1202.5,1202.5],\"xaxis\":\"x\",\"y\":[0.11942903646680729,0.25488322410401365,0.25488322410401365,0.14674948296429444],\"yaxis\":\"y\",\"type\":\"scatter\"},{\"hoverinfo\":\"text\",\"marker\":{\"color\":\"rgb(0,116,217)\"},\"mode\":\"lines\",\"x\":[1160.0,1160.0,1191.25,1191.25],\"xaxis\":\"x\",\"y\":[0.15995723019781835,0.37469189758336435,0.37469189758336435,0.25488322410401365],\"yaxis\":\"y\",\"type\":\"scatter\"},{\"hoverinfo\":\"text\",\"marker\":{\"color\":\"rgb(0,116,217)\"},\"mode\":\"lines\",\"x\":[1140.0,1140.0,1175.625,1175.625],\"xaxis\":\"x\",\"y\":[0.1570114947433402,0.46905317528730206,0.46905317528730206,0.37469189758336435],\"yaxis\":\"y\",\"type\":\"scatter\"},{\"hoverinfo\":\"text\",\"marker\":{\"color\":\"rgb(0,116,217)\"},\"mode\":\"lines\",\"x\":[1097.5,1097.5,1157.8125,1157.8125],\"xaxis\":\"x\",\"y\":[0.30000168920757747,0.8250034255081443,0.8250034255081443,0.46905317528730206],\"yaxis\":\"y\",\"type\":\"scatter\"},{\"hoverinfo\":\"text\",\"marker\":{\"color\":\"rgb(0,116,217)\"},\"mode\":\"lines\",\"x\":[1035.625,1035.625,1127.65625,1127.65625],\"xaxis\":\"x\",\"y\":[0.6353698952974263,1.2752252605148287,1.2752252605148287,0.8250034255081443],\"yaxis\":\"y\",\"type\":\"scatter\"},{\"hoverinfo\":\"text\",\"marker\":{\"color\":\"rgb(0,116,217)\"},\"mode\":\"lines\",\"x\":[1235.0,1235.0,1245.0,1245.0],\"xaxis\":\"x\",\"y\":[0.0,0.13593600206963433,0.13593600206963433,0.0],\"yaxis\":\"y\",\"type\":\"scatter\"},{\"hoverinfo\":\"text\",\"marker\":{\"color\":\"rgb(0,116,217)\"},\"mode\":\"lines\",\"x\":[1225.0,1225.0,1240.0,1240.0],\"xaxis\":\"x\",\"y\":[0.0,0.2761411221550023,0.2761411221550023,0.13593600206963433],\"yaxis\":\"y\",\"type\":\"scatter\"},{\"hoverinfo\":\"text\",\"marker\":{\"color\":\"rgb(0,116,217)\"},\"mode\":\"lines\",\"x\":[1265.0,1265.0,1275.0,1275.0],\"xaxis\":\"x\",\"y\":[0.0,0.06481686495779498,0.06481686495779498,0.0],\"yaxis\":\"y\",\"type\":\"scatter\"},{\"hoverinfo\":\"text\",\"marker\":{\"color\":\"rgb(0,116,217)\"},\"mode\":\"lines\",\"x\":[1255.0,1255.0,1270.0,1270.0],\"xaxis\":\"x\",\"y\":[0.0,0.14608658890461257,0.14608658890461257,0.06481686495779498],\"yaxis\":\"y\",\"type\":\"scatter\"},{\"hoverinfo\":\"text\",\"marker\":{\"color\":\"rgb(0,116,217)\"},\"mode\":\"lines\",\"x\":[1285.0,1285.0,1295.0,1295.0],\"xaxis\":\"x\",\"y\":[0.0,0.18732341299624414,0.18732341299624414,0.0],\"yaxis\":\"y\",\"type\":\"scatter\"},{\"hoverinfo\":\"text\",\"marker\":{\"color\":\"rgb(0,116,217)\"},\"mode\":\"lines\",\"x\":[1262.5,1262.5,1290.0,1290.0],\"xaxis\":\"x\",\"y\":[0.14608658890461257,0.4095164242046943,0.4095164242046943,0.18732341299624414],\"yaxis\":\"y\",\"type\":\"scatter\"},{\"hoverinfo\":\"text\",\"marker\":{\"color\":\"rgb(0,116,217)\"},\"mode\":\"lines\",\"x\":[1232.5,1232.5,1276.25,1276.25],\"xaxis\":\"x\",\"y\":[0.2761411221550023,0.5692448122416299,0.5692448122416299,0.4095164242046943],\"yaxis\":\"y\",\"type\":\"scatter\"},{\"hoverinfo\":\"text\",\"marker\":{\"color\":\"rgb(0,116,217)\"},\"mode\":\"lines\",\"x\":[1305.0,1305.0,1315.0,1315.0],\"xaxis\":\"x\",\"y\":[0.0,0.05139741229310803,0.05139741229310803,0.0],\"yaxis\":\"y\",\"type\":\"scatter\"},{\"hoverinfo\":\"text\",\"marker\":{\"color\":\"rgb(0,116,217)\"},\"mode\":\"lines\",\"x\":[1325.0,1325.0,1335.0,1335.0],\"xaxis\":\"x\",\"y\":[0.0,0.09410402468181879,0.09410402468181879,0.0],\"yaxis\":\"y\",\"type\":\"scatter\"},{\"hoverinfo\":\"text\",\"marker\":{\"color\":\"rgb(0,116,217)\"},\"mode\":\"lines\",\"x\":[1310.0,1310.0,1330.0,1330.0],\"xaxis\":\"x\",\"y\":[0.05139741229310803,0.23318427572456582,0.23318427572456582,0.09410402468181879],\"yaxis\":\"y\",\"type\":\"scatter\"},{\"hoverinfo\":\"text\",\"marker\":{\"color\":\"rgb(0,116,217)\"},\"mode\":\"lines\",\"x\":[1375.0,1375.0,1385.0,1385.0],\"xaxis\":\"x\",\"y\":[0.0,0.011445559135699569,0.011445559135699569,0.0],\"yaxis\":\"y\",\"type\":\"scatter\"},{\"hoverinfo\":\"text\",\"marker\":{\"color\":\"rgb(0,116,217)\"},\"mode\":\"lines\",\"x\":[1365.0,1365.0,1380.0,1380.0],\"xaxis\":\"x\",\"y\":[0.0,0.062147805393630635,0.062147805393630635,0.011445559135699569],\"yaxis\":\"y\",\"type\":\"scatter\"},{\"hoverinfo\":\"text\",\"marker\":{\"color\":\"rgb(0,116,217)\"},\"mode\":\"lines\",\"x\":[1355.0,1355.0,1372.5,1372.5],\"xaxis\":\"x\",\"y\":[0.0,0.10690092513396056,0.10690092513396056,0.062147805393630635],\"yaxis\":\"y\",\"type\":\"scatter\"},{\"hoverinfo\":\"text\",\"marker\":{\"color\":\"rgb(0,116,217)\"},\"mode\":\"lines\",\"x\":[1345.0,1345.0,1363.75,1363.75],\"xaxis\":\"x\",\"y\":[0.0,0.2861467897714454,0.2861467897714454,0.10690092513396056],\"yaxis\":\"y\",\"type\":\"scatter\"},{\"hoverinfo\":\"text\",\"marker\":{\"color\":\"rgb(0,116,217)\"},\"mode\":\"lines\",\"x\":[1320.0,1320.0,1354.375,1354.375],\"xaxis\":\"x\",\"y\":[0.23318427572456582,0.6475079183072625,0.6475079183072625,0.2861467897714454],\"yaxis\":\"y\",\"type\":\"scatter\"},{\"hoverinfo\":\"text\",\"marker\":{\"color\":\"rgb(0,116,217)\"},\"mode\":\"lines\",\"x\":[1254.375,1254.375,1337.1875,1337.1875],\"xaxis\":\"x\",\"y\":[0.5692448122416299,0.9936666997136839,0.9936666997136839,0.6475079183072625],\"yaxis\":\"y\",\"type\":\"scatter\"},{\"hoverinfo\":\"text\",\"marker\":{\"color\":\"rgb(0,116,217)\"},\"mode\":\"lines\",\"x\":[1405.0,1405.0,1415.0,1415.0],\"xaxis\":\"x\",\"y\":[0.0,0.07485825263999087,0.07485825263999087,0.0],\"yaxis\":\"y\",\"type\":\"scatter\"},{\"hoverinfo\":\"text\",\"marker\":{\"color\":\"rgb(0,116,217)\"},\"mode\":\"lines\",\"x\":[1395.0,1395.0,1410.0,1410.0],\"xaxis\":\"x\",\"y\":[0.0,0.572770774559283,0.572770774559283,0.07485825263999087],\"yaxis\":\"y\",\"type\":\"scatter\"},{\"hoverinfo\":\"text\",\"marker\":{\"color\":\"rgb(0,116,217)\"},\"mode\":\"lines\",\"x\":[1425.0,1425.0,1435.0,1435.0],\"xaxis\":\"x\",\"y\":[0.0,0.10569741933109363,0.10569741933109363,0.0],\"yaxis\":\"y\",\"type\":\"scatter\"},{\"hoverinfo\":\"text\",\"marker\":{\"color\":\"rgb(0,116,217)\"},\"mode\":\"lines\",\"x\":[1455.0,1455.0,1465.0,1465.0],\"xaxis\":\"x\",\"y\":[0.0,0.0,0.0,0.0],\"yaxis\":\"y\",\"type\":\"scatter\"},{\"hoverinfo\":\"text\",\"marker\":{\"color\":\"rgb(0,116,217)\"},\"mode\":\"lines\",\"x\":[1445.0,1445.0,1460.0,1460.0],\"xaxis\":\"x\",\"y\":[0.0,0.12401589958459895,0.12401589958459895,0.0],\"yaxis\":\"y\",\"type\":\"scatter\"},{\"hoverinfo\":\"text\",\"marker\":{\"color\":\"rgb(0,116,217)\"},\"mode\":\"lines\",\"x\":[1430.0,1430.0,1452.5,1452.5],\"xaxis\":\"x\",\"y\":[0.10569741933109363,0.33239907488313686,0.33239907488313686,0.12401589958459895],\"yaxis\":\"y\",\"type\":\"scatter\"},{\"hoverinfo\":\"text\",\"marker\":{\"color\":\"rgb(0,116,217)\"},\"mode\":\"lines\",\"x\":[1485.0,1485.0,1495.0,1495.0],\"xaxis\":\"x\",\"y\":[0.0,0.2278630050661621,0.2278630050661621,0.0],\"yaxis\":\"y\",\"type\":\"scatter\"},{\"hoverinfo\":\"text\",\"marker\":{\"color\":\"rgb(0,116,217)\"},\"mode\":\"lines\",\"x\":[1475.0,1475.0,1490.0,1490.0],\"xaxis\":\"x\",\"y\":[0.0,0.40243904193663127,0.40243904193663127,0.2278630050661621],\"yaxis\":\"y\",\"type\":\"scatter\"},{\"hoverinfo\":\"text\",\"marker\":{\"color\":\"rgb(0,116,217)\"},\"mode\":\"lines\",\"x\":[1441.25,1441.25,1482.5,1482.5],\"xaxis\":\"x\",\"y\":[0.33239907488313686,0.6733342624918931,0.6733342624918931,0.40243904193663127],\"yaxis\":\"y\",\"type\":\"scatter\"},{\"hoverinfo\":\"text\",\"marker\":{\"color\":\"rgb(0,116,217)\"},\"mode\":\"lines\",\"x\":[1402.5,1402.5,1461.875,1461.875],\"xaxis\":\"x\",\"y\":[0.572770774559283,1.155219234769419,1.155219234769419,0.6733342624918931],\"yaxis\":\"y\",\"type\":\"scatter\"},{\"hoverinfo\":\"text\",\"marker\":{\"color\":\"rgb(0,116,217)\"},\"mode\":\"lines\",\"x\":[1295.78125,1295.78125,1432.1875,1432.1875],\"xaxis\":\"x\",\"y\":[0.9936666997136839,1.5924216247186187,1.5924216247186187,1.155219234769419],\"yaxis\":\"y\",\"type\":\"scatter\"},{\"hoverinfo\":\"text\",\"marker\":{\"color\":\"rgb(0,116,217)\"},\"mode\":\"lines\",\"x\":[1081.640625,1081.640625,1363.984375,1363.984375],\"xaxis\":\"x\",\"y\":[1.2752252605148287,2.0977287288122155,2.0977287288122155,1.5924216247186187],\"yaxis\":\"y\",\"type\":\"scatter\"},{\"hoverinfo\":\"text\",\"marker\":{\"color\":\"rgb(0,116,217)\"},\"mode\":\"lines\",\"x\":[884.21875,884.21875,1222.8125,1222.8125],\"xaxis\":\"x\",\"y\":[1.7567567971940705,3.4138522413722354,3.4138522413722354,2.0977287288122155],\"yaxis\":\"y\",\"type\":\"scatter\"},{\"hoverinfo\":\"text\",\"marker\":{\"color\":\"rgb(0,116,217)\"},\"mode\":\"lines\",\"x\":[709.4921875,709.4921875,1053.515625,1053.515625],\"xaxis\":\"x\",\"y\":[2.0695891918900102,4.646401518653679,4.646401518653679,3.4138522413722354],\"yaxis\":\"y\",\"type\":\"scatter\"},{\"hoverinfo\":\"text\",\"marker\":{\"color\":\"rgb(0,116,217)\"},\"mode\":\"lines\",\"x\":[423.96484375,423.96484375,881.50390625,881.50390625],\"xaxis\":\"x\",\"y\":[2.9069888715125725,5.785517130129325,5.785517130129325,4.646401518653679],\"yaxis\":\"y\",\"type\":\"scatter\"},{\"hoverinfo\":\"text\",\"marker\":{\"color\":\"rgb(0,116,217)\"},\"mode\":\"lines\",\"x\":[75.60546875,75.60546875,652.734375,652.734375],\"xaxis\":\"x\",\"y\":[3.0024144315110606,6.513529084999634,6.513529084999634,5.785517130129325],\"yaxis\":\"y\",\"type\":\"scatter\"}],                        {\"autosize\":false,\"height\":500,\"hovermode\":\"closest\",\"showlegend\":false,\"width\":800,\"xaxis\":{\"mirror\":\"allticks\",\"rangemode\":\"tozero\",\"showgrid\":false,\"showline\":true,\"showticklabels\":true,\"tickmode\":\"array\",\"ticks\":\"outside\",\"ticktext\":[\"118\",\"130\",\"102\",\"107\",\"122\",\"105\",\"135\",\"109\",\"117\",\"131\",\"56\",\"85\",\"86\",\"70\",\"51\",\"65\",\"50\",\"52\",\"110\",\"115\",\"148\",\"124\",\"136\",\"100\",\"120\",\"143\",\"125\",\"144\",\"104\",\"112\",\"145\",\"140\",\"129\",\"139\",\"141\",\"15\",\"32\",\"14\",\"33\",\"19\",\"46\",\"21\",\"48\",\"10\",\"44\",\"18\",\"5\",\"16\",\"22\",\"4\",\"0\",\"40\",\"17\",\"27\",\"36\",\"31\",\"20\",\"43\",\"23\",\"26\",\"28\",\"39\",\"35\",\"49\",\"6\",\"11\",\"7\",\"24\",\"41\",\"8\",\"13\",\"38\",\"42\",\"29\",\"2\",\"47\",\"25\",\"1\",\"45\",\"30\",\"37\",\"9\",\"34\",\"3\",\"12\",\"87\",\"68\",\"119\",\"60\",\"98\",\"57\",\"93\",\"106\",\"53\",\"62\",\"80\",\"81\",\"69\",\"89\",\"55\",\"99\",\"94\",\"67\",\"82\",\"59\",\"79\",\"90\",\"92\",\"64\",\"88\",\"95\",\"84\",\"96\",\"71\",\"73\",\"61\",\"66\",\"74\",\"91\",\"97\",\"63\",\"78\",\"123\",\"111\",\"114\",\"54\",\"126\",\"133\",\"76\",\"103\",\"116\",\"147\",\"77\",\"137\",\"75\",\"127\",\"149\",\"58\",\"138\",\"108\",\"128\",\"132\",\"83\",\"121\",\"134\",\"101\",\"142\",\"146\",\"72\",\"113\"],\"tickvals\":[5,15,25,35,45,55,65,75,85,95,105,115,125,135,145,155,165,175,185,195,205,215,225,235,245,255,265,275,285,295,305,315,325,335,345,355,365,375,385,395,405,415,425,435,445,455,465,475,485,495,505,515,525,535,545,555,565,575,585,595,605,615,625,635,645,655,665,675,685,695,705,715,725,735,745,755,765,775,785,795,805,815,825,835,845,855,865,875,885,895,905,915,925,935,945,955,965,975,985,995,1005,1015,1025,1035,1045,1055,1065,1075,1085,1095,1105,1115,1125,1135,1145,1155,1165,1175,1185,1195,1205,1215,1225,1235,1245,1255,1265,1275,1285,1295,1305,1315,1325,1335,1345,1355,1365,1375,1385,1395,1405,1415,1425,1435,1445,1455,1465,1475,1485,1495],\"type\":\"linear\",\"zeroline\":false},\"yaxis\":{\"mirror\":\"allticks\",\"rangemode\":\"tozero\",\"showgrid\":false,\"showline\":true,\"showticklabels\":true,\"ticks\":\"outside\",\"type\":\"linear\",\"zeroline\":false},\"template\":{\"data\":{\"histogram2dcontour\":[{\"type\":\"histogram2dcontour\",\"colorbar\":{\"outlinewidth\":0,\"ticks\":\"\"},\"colorscale\":[[0.0,\"#0d0887\"],[0.1111111111111111,\"#46039f\"],[0.2222222222222222,\"#7201a8\"],[0.3333333333333333,\"#9c179e\"],[0.4444444444444444,\"#bd3786\"],[0.5555555555555556,\"#d8576b\"],[0.6666666666666666,\"#ed7953\"],[0.7777777777777778,\"#fb9f3a\"],[0.8888888888888888,\"#fdca26\"],[1.0,\"#f0f921\"]]}],\"choropleth\":[{\"type\":\"choropleth\",\"colorbar\":{\"outlinewidth\":0,\"ticks\":\"\"}}],\"histogram2d\":[{\"type\":\"histogram2d\",\"colorbar\":{\"outlinewidth\":0,\"ticks\":\"\"},\"colorscale\":[[0.0,\"#0d0887\"],[0.1111111111111111,\"#46039f\"],[0.2222222222222222,\"#7201a8\"],[0.3333333333333333,\"#9c179e\"],[0.4444444444444444,\"#bd3786\"],[0.5555555555555556,\"#d8576b\"],[0.6666666666666666,\"#ed7953\"],[0.7777777777777778,\"#fb9f3a\"],[0.8888888888888888,\"#fdca26\"],[1.0,\"#f0f921\"]]}],\"heatmap\":[{\"type\":\"heatmap\",\"colorbar\":{\"outlinewidth\":0,\"ticks\":\"\"},\"colorscale\":[[0.0,\"#0d0887\"],[0.1111111111111111,\"#46039f\"],[0.2222222222222222,\"#7201a8\"],[0.3333333333333333,\"#9c179e\"],[0.4444444444444444,\"#bd3786\"],[0.5555555555555556,\"#d8576b\"],[0.6666666666666666,\"#ed7953\"],[0.7777777777777778,\"#fb9f3a\"],[0.8888888888888888,\"#fdca26\"],[1.0,\"#f0f921\"]]}],\"heatmapgl\":[{\"type\":\"heatmapgl\",\"colorbar\":{\"outlinewidth\":0,\"ticks\":\"\"},\"colorscale\":[[0.0,\"#0d0887\"],[0.1111111111111111,\"#46039f\"],[0.2222222222222222,\"#7201a8\"],[0.3333333333333333,\"#9c179e\"],[0.4444444444444444,\"#bd3786\"],[0.5555555555555556,\"#d8576b\"],[0.6666666666666666,\"#ed7953\"],[0.7777777777777778,\"#fb9f3a\"],[0.8888888888888888,\"#fdca26\"],[1.0,\"#f0f921\"]]}],\"contourcarpet\":[{\"type\":\"contourcarpet\",\"colorbar\":{\"outlinewidth\":0,\"ticks\":\"\"}}],\"contour\":[{\"type\":\"contour\",\"colorbar\":{\"outlinewidth\":0,\"ticks\":\"\"},\"colorscale\":[[0.0,\"#0d0887\"],[0.1111111111111111,\"#46039f\"],[0.2222222222222222,\"#7201a8\"],[0.3333333333333333,\"#9c179e\"],[0.4444444444444444,\"#bd3786\"],[0.5555555555555556,\"#d8576b\"],[0.6666666666666666,\"#ed7953\"],[0.7777777777777778,\"#fb9f3a\"],[0.8888888888888888,\"#fdca26\"],[1.0,\"#f0f921\"]]}],\"surface\":[{\"type\":\"surface\",\"colorbar\":{\"outlinewidth\":0,\"ticks\":\"\"},\"colorscale\":[[0.0,\"#0d0887\"],[0.1111111111111111,\"#46039f\"],[0.2222222222222222,\"#7201a8\"],[0.3333333333333333,\"#9c179e\"],[0.4444444444444444,\"#bd3786\"],[0.5555555555555556,\"#d8576b\"],[0.6666666666666666,\"#ed7953\"],[0.7777777777777778,\"#fb9f3a\"],[0.8888888888888888,\"#fdca26\"],[1.0,\"#f0f921\"]]}],\"mesh3d\":[{\"type\":\"mesh3d\",\"colorbar\":{\"outlinewidth\":0,\"ticks\":\"\"}}],\"scatter\":[{\"fillpattern\":{\"fillmode\":\"overlay\",\"size\":10,\"solidity\":0.2},\"type\":\"scatter\"}],\"parcoords\":[{\"type\":\"parcoords\",\"line\":{\"colorbar\":{\"outlinewidth\":0,\"ticks\":\"\"}}}],\"scatterpolargl\":[{\"type\":\"scatterpolargl\",\"marker\":{\"colorbar\":{\"outlinewidth\":0,\"ticks\":\"\"}}}],\"bar\":[{\"error_x\":{\"color\":\"#2a3f5f\"},\"error_y\":{\"color\":\"#2a3f5f\"},\"marker\":{\"line\":{\"color\":\"#E5ECF6\",\"width\":0.5},\"pattern\":{\"fillmode\":\"overlay\",\"size\":10,\"solidity\":0.2}},\"type\":\"bar\"}],\"scattergeo\":[{\"type\":\"scattergeo\",\"marker\":{\"colorbar\":{\"outlinewidth\":0,\"ticks\":\"\"}}}],\"scatterpolar\":[{\"type\":\"scatterpolar\",\"marker\":{\"colorbar\":{\"outlinewidth\":0,\"ticks\":\"\"}}}],\"histogram\":[{\"marker\":{\"pattern\":{\"fillmode\":\"overlay\",\"size\":10,\"solidity\":0.2}},\"type\":\"histogram\"}],\"scattergl\":[{\"type\":\"scattergl\",\"marker\":{\"colorbar\":{\"outlinewidth\":0,\"ticks\":\"\"}}}],\"scatter3d\":[{\"type\":\"scatter3d\",\"line\":{\"colorbar\":{\"outlinewidth\":0,\"ticks\":\"\"}},\"marker\":{\"colorbar\":{\"outlinewidth\":0,\"ticks\":\"\"}}}],\"scattermapbox\":[{\"type\":\"scattermapbox\",\"marker\":{\"colorbar\":{\"outlinewidth\":0,\"ticks\":\"\"}}}],\"scatterternary\":[{\"type\":\"scatterternary\",\"marker\":{\"colorbar\":{\"outlinewidth\":0,\"ticks\":\"\"}}}],\"scattercarpet\":[{\"type\":\"scattercarpet\",\"marker\":{\"colorbar\":{\"outlinewidth\":0,\"ticks\":\"\"}}}],\"carpet\":[{\"aaxis\":{\"endlinecolor\":\"#2a3f5f\",\"gridcolor\":\"white\",\"linecolor\":\"white\",\"minorgridcolor\":\"white\",\"startlinecolor\":\"#2a3f5f\"},\"baxis\":{\"endlinecolor\":\"#2a3f5f\",\"gridcolor\":\"white\",\"linecolor\":\"white\",\"minorgridcolor\":\"white\",\"startlinecolor\":\"#2a3f5f\"},\"type\":\"carpet\"}],\"table\":[{\"cells\":{\"fill\":{\"color\":\"#EBF0F8\"},\"line\":{\"color\":\"white\"}},\"header\":{\"fill\":{\"color\":\"#C8D4E3\"},\"line\":{\"color\":\"white\"}},\"type\":\"table\"}],\"barpolar\":[{\"marker\":{\"line\":{\"color\":\"#E5ECF6\",\"width\":0.5},\"pattern\":{\"fillmode\":\"overlay\",\"size\":10,\"solidity\":0.2}},\"type\":\"barpolar\"}],\"pie\":[{\"automargin\":true,\"type\":\"pie\"}]},\"layout\":{\"autotypenumbers\":\"strict\",\"colorway\":[\"#636efa\",\"#EF553B\",\"#00cc96\",\"#ab63fa\",\"#FFA15A\",\"#19d3f3\",\"#FF6692\",\"#B6E880\",\"#FF97FF\",\"#FECB52\"],\"font\":{\"color\":\"#2a3f5f\"},\"hovermode\":\"closest\",\"hoverlabel\":{\"align\":\"left\"},\"paper_bgcolor\":\"white\",\"plot_bgcolor\":\"#E5ECF6\",\"polar\":{\"bgcolor\":\"#E5ECF6\",\"angularaxis\":{\"gridcolor\":\"white\",\"linecolor\":\"white\",\"ticks\":\"\"},\"radialaxis\":{\"gridcolor\":\"white\",\"linecolor\":\"white\",\"ticks\":\"\"}},\"ternary\":{\"bgcolor\":\"#E5ECF6\",\"aaxis\":{\"gridcolor\":\"white\",\"linecolor\":\"white\",\"ticks\":\"\"},\"baxis\":{\"gridcolor\":\"white\",\"linecolor\":\"white\",\"ticks\":\"\"},\"caxis\":{\"gridcolor\":\"white\",\"linecolor\":\"white\",\"ticks\":\"\"}},\"coloraxis\":{\"colorbar\":{\"outlinewidth\":0,\"ticks\":\"\"}},\"colorscale\":{\"sequential\":[[0.0,\"#0d0887\"],[0.1111111111111111,\"#46039f\"],[0.2222222222222222,\"#7201a8\"],[0.3333333333333333,\"#9c179e\"],[0.4444444444444444,\"#bd3786\"],[0.5555555555555556,\"#d8576b\"],[0.6666666666666666,\"#ed7953\"],[0.7777777777777778,\"#fb9f3a\"],[0.8888888888888888,\"#fdca26\"],[1.0,\"#f0f921\"]],\"sequentialminus\":[[0.0,\"#0d0887\"],[0.1111111111111111,\"#46039f\"],[0.2222222222222222,\"#7201a8\"],[0.3333333333333333,\"#9c179e\"],[0.4444444444444444,\"#bd3786\"],[0.5555555555555556,\"#d8576b\"],[0.6666666666666666,\"#ed7953\"],[0.7777777777777778,\"#fb9f3a\"],[0.8888888888888888,\"#fdca26\"],[1.0,\"#f0f921\"]],\"diverging\":[[0,\"#8e0152\"],[0.1,\"#c51b7d\"],[0.2,\"#de77ae\"],[0.3,\"#f1b6da\"],[0.4,\"#fde0ef\"],[0.5,\"#f7f7f7\"],[0.6,\"#e6f5d0\"],[0.7,\"#b8e186\"],[0.8,\"#7fbc41\"],[0.9,\"#4d9221\"],[1,\"#276419\"]]},\"xaxis\":{\"gridcolor\":\"white\",\"linecolor\":\"white\",\"ticks\":\"\",\"title\":{\"standoff\":15},\"zerolinecolor\":\"white\",\"automargin\":true,\"zerolinewidth\":2},\"yaxis\":{\"gridcolor\":\"white\",\"linecolor\":\"white\",\"ticks\":\"\",\"title\":{\"standoff\":15},\"zerolinecolor\":\"white\",\"automargin\":true,\"zerolinewidth\":2},\"scene\":{\"xaxis\":{\"backgroundcolor\":\"#E5ECF6\",\"gridcolor\":\"white\",\"linecolor\":\"white\",\"showbackground\":true,\"ticks\":\"\",\"zerolinecolor\":\"white\",\"gridwidth\":2},\"yaxis\":{\"backgroundcolor\":\"#E5ECF6\",\"gridcolor\":\"white\",\"linecolor\":\"white\",\"showbackground\":true,\"ticks\":\"\",\"zerolinecolor\":\"white\",\"gridwidth\":2},\"zaxis\":{\"backgroundcolor\":\"#E5ECF6\",\"gridcolor\":\"white\",\"linecolor\":\"white\",\"showbackground\":true,\"ticks\":\"\",\"zerolinecolor\":\"white\",\"gridwidth\":2}},\"shapedefaults\":{\"line\":{\"color\":\"#2a3f5f\"}},\"annotationdefaults\":{\"arrowcolor\":\"#2a3f5f\",\"arrowhead\":0,\"arrowwidth\":1},\"geo\":{\"bgcolor\":\"white\",\"landcolor\":\"#E5ECF6\",\"subunitcolor\":\"white\",\"showland\":true,\"showlakes\":true,\"lakecolor\":\"white\"},\"title\":{\"x\":0.05},\"mapbox\":{\"style\":\"light\"}}}},                        {\"responsive\": true}                    ).then(function(){\n",
       "                            \n",
       "var gd = document.getElementById('555d8501-c2bc-44a5-bad7-6c8745100474');\n",
       "var x = new MutationObserver(function (mutations, observer) {{\n",
       "        var display = window.getComputedStyle(gd).display;\n",
       "        if (!display || display === 'none') {{\n",
       "            console.log([gd, 'removed!']);\n",
       "            Plotly.purge(gd);\n",
       "            observer.disconnect();\n",
       "        }}\n",
       "}});\n",
       "\n",
       "// Listen for the removal of the full notebook cells\n",
       "var notebookContainer = gd.closest('#notebook-container');\n",
       "if (notebookContainer) {{\n",
       "    x.observe(notebookContainer, {childList: true});\n",
       "}}\n",
       "\n",
       "// Listen for the clearing of the current output cell\n",
       "var outputEl = gd.closest('.output');\n",
       "if (outputEl) {{\n",
       "    x.observe(outputEl, {childList: true});\n",
       "}}\n",
       "\n",
       "                        })                };                });            </script>        </div>"
      ]
     },
     "metadata": {},
     "output_type": "display_data"
    }
   ],
   "source": [
    "# Create the dendrogram\n",
    "fig = ff.create_dendrogram(df_iris_pca, color_threshold=0)\n",
    "fig.update_layout(width=800, height=500)\n",
    "fig.show()"
   ]
  },
  {
   "cell_type": "code",
   "execution_count": 30,
   "id": "a783ac81",
   "metadata": {},
   "outputs": [],
   "source": [
    "agg = AgglomerativeClustering(n_clusters=3)\n",
    "model = agg.fit(df_iris_pca)"
   ]
  },
  {
   "cell_type": "code",
   "execution_count": 31,
   "id": "ad5dee51",
   "metadata": {},
   "outputs": [
    {
     "data": {
      "text/html": [
       "<div>\n",
       "<style scoped>\n",
       "    .dataframe tbody tr th:only-of-type {\n",
       "        vertical-align: middle;\n",
       "    }\n",
       "\n",
       "    .dataframe tbody tr th {\n",
       "        vertical-align: top;\n",
       "    }\n",
       "\n",
       "    .dataframe thead th {\n",
       "        text-align: right;\n",
       "    }\n",
       "</style>\n",
       "<table border=\"1\" class=\"dataframe\">\n",
       "  <thead>\n",
       "    <tr style=\"text-align: right;\">\n",
       "      <th></th>\n",
       "      <th>principal component 1</th>\n",
       "      <th>principal component 2</th>\n",
       "      <th>class</th>\n",
       "    </tr>\n",
       "  </thead>\n",
       "  <tbody>\n",
       "    <tr>\n",
       "      <th>0</th>\n",
       "      <td>-2.264542</td>\n",
       "      <td>0.505704</td>\n",
       "      <td>0</td>\n",
       "    </tr>\n",
       "    <tr>\n",
       "      <th>1</th>\n",
       "      <td>-2.086426</td>\n",
       "      <td>-0.655405</td>\n",
       "      <td>0</td>\n",
       "    </tr>\n",
       "    <tr>\n",
       "      <th>2</th>\n",
       "      <td>-2.367950</td>\n",
       "      <td>-0.318477</td>\n",
       "      <td>0</td>\n",
       "    </tr>\n",
       "    <tr>\n",
       "      <th>3</th>\n",
       "      <td>-2.304197</td>\n",
       "      <td>-0.575368</td>\n",
       "      <td>0</td>\n",
       "    </tr>\n",
       "    <tr>\n",
       "      <th>4</th>\n",
       "      <td>-2.388777</td>\n",
       "      <td>0.674767</td>\n",
       "      <td>0</td>\n",
       "    </tr>\n",
       "  </tbody>\n",
       "</table>\n",
       "</div>"
      ],
      "text/plain": [
       "   principal component 1  principal component 2  class\n",
       "0              -2.264542               0.505704      0\n",
       "1              -2.086426              -0.655405      0\n",
       "2              -2.367950              -0.318477      0\n",
       "3              -2.304197              -0.575368      0\n",
       "4              -2.388777               0.674767      0"
      ]
     },
     "execution_count": 31,
     "metadata": {},
     "output_type": "execute_result"
    }
   ],
   "source": [
    "#add a new class column to df_iris\n",
    "df_iris_pca[\"class\"]=model.labels_\n",
    "df_iris_pca.head()"
   ]
  },
  {
   "cell_type": "code",
   "execution_count": 32,
   "id": "9a9e89d4",
   "metadata": {},
   "outputs": [
    {
     "data": {},
     "metadata": {},
     "output_type": "display_data"
    },
    {
     "data": {
      "application/vnd.holoviews_exec.v0+json": "",
      "text/html": [
       "<div id='1002'>\n",
       "  <div class=\"bk-root\" id=\"8b3e02ac-1204-4393-a91d-7f81926d4a3d\" data-root-id=\"1002\"></div>\n",
       "</div>\n",
       "<script type=\"application/javascript\">(function(root) {\n",
       "  function embed_document(root) {\n",
       "    var docs_json = {\"8074a4cd-3ffa-4ddb-847c-e6692d0021f2\":{\"defs\":[{\"extends\":null,\"module\":null,\"name\":\"ReactiveHTML1\",\"overrides\":[],\"properties\":[]},{\"extends\":null,\"module\":null,\"name\":\"FlexBox1\",\"overrides\":[],\"properties\":[{\"default\":\"flex-start\",\"kind\":null,\"name\":\"align_content\"},{\"default\":\"flex-start\",\"kind\":null,\"name\":\"align_items\"},{\"default\":\"row\",\"kind\":null,\"name\":\"flex_direction\"},{\"default\":\"wrap\",\"kind\":null,\"name\":\"flex_wrap\"},{\"default\":\"flex-start\",\"kind\":null,\"name\":\"justify_content\"}]},{\"extends\":null,\"module\":null,\"name\":\"GridStack1\",\"overrides\":[],\"properties\":[{\"default\":\"warn\",\"kind\":null,\"name\":\"mode\"},{\"default\":null,\"kind\":null,\"name\":\"ncols\"},{\"default\":null,\"kind\":null,\"name\":\"nrows\"},{\"default\":true,\"kind\":null,\"name\":\"allow_resize\"},{\"default\":true,\"kind\":null,\"name\":\"allow_drag\"},{\"default\":[],\"kind\":null,\"name\":\"state\"}]},{\"extends\":null,\"module\":null,\"name\":\"click1\",\"overrides\":[],\"properties\":[{\"default\":\"\",\"kind\":null,\"name\":\"terminal_output\"},{\"default\":\"\",\"kind\":null,\"name\":\"debug_name\"},{\"default\":0,\"kind\":null,\"name\":\"clears\"}]},{\"extends\":null,\"module\":null,\"name\":\"NotificationAreaBase1\",\"overrides\":[],\"properties\":[{\"default\":\"bottom-right\",\"kind\":null,\"name\":\"position\"},{\"default\":0,\"kind\":null,\"name\":\"_clear\"}]},{\"extends\":null,\"module\":null,\"name\":\"NotificationArea1\",\"overrides\":[],\"properties\":[{\"default\":[],\"kind\":null,\"name\":\"notifications\"},{\"default\":\"bottom-right\",\"kind\":null,\"name\":\"position\"},{\"default\":0,\"kind\":null,\"name\":\"_clear\"},{\"default\":[{\"background\":\"#ffc107\",\"icon\":{\"className\":\"fas fa-exclamation-triangle\",\"color\":\"white\",\"tagName\":\"i\"},\"type\":\"warning\"},{\"background\":\"#007bff\",\"icon\":{\"className\":\"fas fa-info-circle\",\"color\":\"white\",\"tagName\":\"i\"},\"type\":\"info\"}],\"kind\":null,\"name\":\"types\"}]},{\"extends\":null,\"module\":null,\"name\":\"Notification\",\"overrides\":[],\"properties\":[{\"default\":null,\"kind\":null,\"name\":\"background\"},{\"default\":3000,\"kind\":null,\"name\":\"duration\"},{\"default\":null,\"kind\":null,\"name\":\"icon\"},{\"default\":\"\",\"kind\":null,\"name\":\"message\"},{\"default\":null,\"kind\":null,\"name\":\"notification_type\"},{\"default\":false,\"kind\":null,\"name\":\"_destroyed\"}]},{\"extends\":null,\"module\":null,\"name\":\"TemplateActions1\",\"overrides\":[],\"properties\":[{\"default\":0,\"kind\":null,\"name\":\"open_modal\"},{\"default\":0,\"kind\":null,\"name\":\"close_modal\"}]},{\"extends\":null,\"module\":null,\"name\":\"MaterialTemplateActions1\",\"overrides\":[],\"properties\":[{\"default\":0,\"kind\":null,\"name\":\"open_modal\"},{\"default\":0,\"kind\":null,\"name\":\"close_modal\"}]}],\"roots\":{\"references\":[{\"attributes\":{\"fill_alpha\":{\"value\":0.1},\"fill_color\":{\"value\":\"#fc4f30\"},\"hatch_alpha\":{\"value\":0.1},\"hatch_color\":{\"value\":\"#fc4f30\"},\"line_alpha\":{\"value\":0.1},\"line_color\":{\"value\":\"#fc4f30\"},\"size\":{\"value\":5.477225575051661},\"x\":{\"field\":\"principal component 1\"},\"y\":{\"field\":\"principal component 2\"}},\"id\":\"1070\",\"type\":\"Scatter\"},{\"attributes\":{},\"id\":\"1046\",\"type\":\"Selection\"},{\"attributes\":{\"margin\":[5,5,5,5],\"name\":\"HSpacer00931\",\"sizing_mode\":\"stretch_width\"},\"id\":\"1003\",\"type\":\"Spacer\"},{\"attributes\":{\"coordinates\":null,\"group\":null,\"text_color\":\"black\",\"text_font_size\":\"12pt\"},\"id\":\"1010\",\"type\":\"Title\"},{\"attributes\":{\"angle\":{\"value\":0.0},\"fill_alpha\":{\"value\":1.0},\"fill_color\":{\"value\":\"#30a2da\"},\"hatch_alpha\":{\"value\":1.0},\"hatch_color\":{\"value\":\"#30a2da\"},\"hatch_scale\":{\"value\":12.0},\"hatch_weight\":{\"value\":1.0},\"line_alpha\":{\"value\":1.0},\"line_cap\":{\"value\":\"butt\"},\"line_color\":{\"value\":\"#30a2da\"},\"line_dash\":{\"value\":[]},\"line_dash_offset\":{\"value\":0},\"line_join\":{\"value\":\"bevel\"},\"line_width\":{\"value\":1},\"marker\":{\"value\":\"circle\"},\"size\":{\"value\":5.477225575051661},\"x\":{\"field\":\"principal component 1\"},\"y\":{\"field\":\"principal component 2\"}},\"id\":\"1065\",\"type\":\"Scatter\"},{\"attributes\":{\"fill_alpha\":{\"value\":0.2},\"fill_color\":{\"value\":\"#30a2da\"},\"hatch_alpha\":{\"value\":0.2},\"hatch_color\":{\"value\":\"#30a2da\"},\"line_alpha\":{\"value\":0.2},\"line_color\":{\"value\":\"#30a2da\"},\"size\":{\"value\":5.477225575051661},\"x\":{\"field\":\"principal component 1\"},\"y\":{\"field\":\"principal component 2\"}},\"id\":\"1050\",\"type\":\"Scatter\"},{\"attributes\":{\"data\":{\"class\":[2,2,2,2,2,2,2,2,2,2,2,2,2,2,2,2,2,2,2,2,2,2,2,2,2,2,2,2,2,2,2,2,2,2,2,2,2,2,2],\"principal component 1\":{\"__ndarray__\":\"cZicP/Wp8T/ndLjqfHDnP0lUdjeu3/M/jn2nUXn15z98t9eWSwfsPwHqCkTLn+c/FXDKtFm79T9fKpbWVaLbP6RuiqhlyvA/XmhkIxGQ/T9bo62QmqYBQMCof1zh4v0/b0K5SJgIBkDjZzhbjmwCQB9PaKrzIwJAbIt72MPa9T82rpRF5SX+PxbRBAgNePk/dx2QGF2K9z9A9idKwH8DQC6GKwMfeQpAlOf2s+9SAEA1Li1oPC8HQD+oueeRRPs/owmePdpS/z98G1ZdIdb9P4f4bA7mewNAMrYxN1aHAkCNTjYpWGgGQK/5r95QSPk/7M5NdH6N9T85BRAgJqj9Pw0MxAYXIQBAtmrCqSpz/j83DlMYslgAQLh5vY12AwBA7uA1jajt/T/zgkKiYVX4Pwr05MSyBfY/\",\"dtype\":\"float64\",\"order\":\"little\",\"shape\":[39]},\"principal component 2\":{\"__ndarray__\":\"ynb2/Z2e6z8WPDfKBSjjP87NPSGgrOM/sV+rWRnr6D9aOXqk51HgP5lBqiETwtk/Ny15KGQL1T8PCD4aSF3rP7eTpAnXteA/hSzLZfDk6z8BxOkWOL7hP/dEGSLnotI/lgetLdY66T9AO0mDhTXaP7qNlwE7vv4/MaEChdI05j9lp0OLbYTaPzJ8aBVGquU/NDesMk400D99OWwxPXQEQAiUpBMMWGO/PHSFImkJ7T9UkpHjaXXZP49a37LzOfA/l4ArfqgN8D+F5F19r8XhP6Ve4qRfks8/HuE1sGwCBUA7KzVdLQjrP6ePagTbKPE/IPwD4z0G2z+1pMCrfITlP9n7O15fiOM/2HYiWerz5T+5Il+gf6vrPzt452ncxvA/9UMyKieA2D9622+NKRPRPx8t0bkEQ/A/\",\"dtype\":\"float64\",\"order\":\"little\",\"shape\":[39]},\"principal_component_1\":{\"__ndarray__\":\"cZicP/Wp8T/ndLjqfHDnP0lUdjeu3/M/jn2nUXn15z98t9eWSwfsPwHqCkTLn+c/FXDKtFm79T9fKpbWVaLbP6RuiqhlyvA/XmhkIxGQ/T9bo62QmqYBQMCof1zh4v0/b0K5SJgIBkDjZzhbjmwCQB9PaKrzIwJAbIt72MPa9T82rpRF5SX+PxbRBAgNePk/dx2QGF2K9z9A9idKwH8DQC6GKwMfeQpAlOf2s+9SAEA1Li1oPC8HQD+oueeRRPs/owmePdpS/z98G1ZdIdb9P4f4bA7mewNAMrYxN1aHAkCNTjYpWGgGQK/5r95QSPk/7M5NdH6N9T85BRAgJqj9Pw0MxAYXIQBAtmrCqSpz/j83DlMYslgAQLh5vY12AwBA7uA1jajt/T/zgkKiYVX4Pwr05MSyBfY/\",\"dtype\":\"float64\",\"order\":\"little\",\"shape\":[39]},\"principal_component_2\":{\"__ndarray__\":\"ynb2/Z2e6z8WPDfKBSjjP87NPSGgrOM/sV+rWRnr6D9aOXqk51HgP5lBqiETwtk/Ny15KGQL1T8PCD4aSF3rP7eTpAnXteA/hSzLZfDk6z8BxOkWOL7hP/dEGSLnotI/lgetLdY66T9AO0mDhTXaP7qNlwE7vv4/MaEChdI05j9lp0OLbYTaPzJ8aBVGquU/NDesMk400D99OWwxPXQEQAiUpBMMWGO/PHSFImkJ7T9UkpHjaXXZP49a37LzOfA/l4ArfqgN8D+F5F19r8XhP6Ve4qRfks8/HuE1sGwCBUA7KzVdLQjrP6ePagTbKPE/IPwD4z0G2z+1pMCrfITlP9n7O15fiOM/2HYiWerz5T+5Il+gf6vrPzt452ncxvA/9UMyKieA2D9622+NKRPRPx8t0bkEQ/A/\",\"dtype\":\"float64\",\"order\":\"little\",\"shape\":[39]}},\"selected\":{\"id\":\"1089\"},\"selection_policy\":{\"id\":\"1107\"}},\"id\":\"1088\",\"type\":\"ColumnDataSource\"},{\"attributes\":{},\"id\":\"1016\",\"type\":\"LinearScale\"},{\"attributes\":{\"label\":{\"value\":\"2\"},\"renderers\":[{\"id\":\"1094\"}]},\"id\":\"1110\",\"type\":\"LegendItem\"},{\"attributes\":{},\"id\":\"1044\",\"type\":\"AllLabels\"},{\"attributes\":{\"below\":[{\"id\":\"1018\"}],\"center\":[{\"id\":\"1021\"},{\"id\":\"1025\"}],\"height\":300,\"left\":[{\"id\":\"1022\"}],\"margin\":[5,5,5,5],\"min_border_bottom\":10,\"min_border_left\":10,\"min_border_right\":10,\"min_border_top\":10,\"renderers\":[{\"id\":\"1051\"},{\"id\":\"1072\"},{\"id\":\"1094\"}],\"right\":[{\"id\":\"1063\"}],\"sizing_mode\":\"fixed\",\"title\":{\"id\":\"1010\"},\"toolbar\":{\"id\":\"1032\"},\"width\":700,\"x_range\":{\"id\":\"1004\"},\"x_scale\":{\"id\":\"1014\"},\"y_range\":{\"id\":\"1005\"},\"y_scale\":{\"id\":\"1016\"}},\"id\":\"1009\",\"subtype\":\"Figure\",\"type\":\"Plot\"},{\"attributes\":{\"fill_color\":{\"value\":\"#fc4f30\"},\"hatch_color\":{\"value\":\"#fc4f30\"},\"line_color\":{\"value\":\"#fc4f30\"},\"size\":{\"value\":5.477225575051661},\"x\":{\"field\":\"principal component 1\"},\"y\":{\"field\":\"principal component 2\"}},\"id\":\"1069\",\"type\":\"Scatter\"},{\"attributes\":{\"callback\":null,\"renderers\":[{\"id\":\"1051\"},{\"id\":\"1072\"},{\"id\":\"1094\"}],\"tags\":[\"hv_created\"],\"tooltips\":[[\"class\",\"@{class}\"],[\"principal component 1\",\"@{principal_component_1}\"],[\"principal component 2\",\"@{principal_component_2}\"]]},\"id\":\"1006\",\"type\":\"HoverTool\"},{\"attributes\":{\"margin\":[5,5,5,5],\"name\":\"HSpacer00932\",\"sizing_mode\":\"stretch_width\"},\"id\":\"1126\",\"type\":\"Spacer\"},{\"attributes\":{},\"id\":\"1014\",\"type\":\"LinearScale\"},{\"attributes\":{\"axis_label\":\"principal component 1\",\"coordinates\":null,\"formatter\":{\"id\":\"1040\"},\"group\":null,\"major_label_policy\":{\"id\":\"1041\"},\"ticker\":{\"id\":\"1019\"}},\"id\":\"1018\",\"type\":\"LinearAxis\"},{\"attributes\":{\"coordinates\":null,\"data_source\":{\"id\":\"1045\"},\"glyph\":{\"id\":\"1048\"},\"group\":null,\"hover_glyph\":null,\"muted_glyph\":{\"id\":\"1050\"},\"nonselection_glyph\":{\"id\":\"1049\"},\"selection_glyph\":{\"id\":\"1065\"},\"view\":{\"id\":\"1052\"}},\"id\":\"1051\",\"type\":\"GlyphRenderer\"},{\"attributes\":{\"bottom_units\":\"screen\",\"coordinates\":null,\"fill_alpha\":0.5,\"fill_color\":\"lightgrey\",\"group\":null,\"left_units\":\"screen\",\"level\":\"overlay\",\"line_alpha\":1.0,\"line_color\":\"black\",\"line_dash\":[4,4],\"line_width\":2,\"right_units\":\"screen\",\"syncable\":false,\"top_units\":\"screen\"},\"id\":\"1031\",\"type\":\"BoxAnnotation\"},{\"attributes\":{\"angle\":{\"value\":0.0},\"fill_alpha\":{\"value\":1.0},\"fill_color\":{\"value\":\"#e5ae38\"},\"hatch_alpha\":{\"value\":1.0},\"hatch_color\":{\"value\":\"#e5ae38\"},\"hatch_scale\":{\"value\":12.0},\"hatch_weight\":{\"value\":1.0},\"line_alpha\":{\"value\":1.0},\"line_cap\":{\"value\":\"butt\"},\"line_color\":{\"value\":\"#e5ae38\"},\"line_dash\":{\"value\":[]},\"line_dash_offset\":{\"value\":0},\"line_join\":{\"value\":\"bevel\"},\"line_width\":{\"value\":1},\"marker\":{\"value\":\"circle\"},\"size\":{\"value\":5.477225575051661},\"x\":{\"field\":\"principal component 1\"},\"y\":{\"field\":\"principal component 2\"}},\"id\":\"1111\",\"type\":\"Scatter\"},{\"attributes\":{\"source\":{\"id\":\"1088\"}},\"id\":\"1095\",\"type\":\"CDSView\"},{\"attributes\":{\"data\":{\"class\":[0,0,0,0,0,0,0,0,0,0,0,0,0,0,0,0,0,0,0,0,0,0,0,0,0,0,0,0,0,0,0,0,0,0,0,0,0,0,0,0,0,0,0,0,0,0,0,0,0,0],\"principal component 1\":{\"__ndarray__\":\"PBG/DcgdAsCeflXa/7AAwC4tSgGQ8QLArHjV6/5uAsB8OOBfNxwDwK8JAJp1kADA6lhZG9GQA8C3vPx66N4BwLjvZ05UvALA4dUzb2iCAcDEACQK0k4BwH2PWzp4ngLAakHW4evKAcBwYBiPIx4FwN5kYiHQiQHA6cLFMQADAsC/icmkO58BwNLnRqd8hQHADbKL2CBO/r9tMd43N7gCwDUu6+IFov6/J3pNIB2jAcAiHszufzEGwHCyHOBnIP2/cG9EsmPTAcBlStBn+E//v+cJWiugagDAzhcE6nVYAcDx6Z27WB8BwCENM3l7JgLA3eURJwwoAcCuCNRTnk/9v3SUD3eZ3QTAxYxIYeyAA8Dh1TNvaIIBwATB4qBfsAHApwtPDPdaAMDh1TNvaIIBwJzdMoLUfAPAUiP02UddAcA54QHLzkoCwGBzDEaD8v2/Xflj5HF2BMD2iQQfsG3/v/eHnMYlEQHAnu7lFFWaAMDP+qMb0QwDwI9moB9/LwPAKZosq3LQAcDcjpZMy6UBwA==\",\"dtype\":\"float64\",\"order\":\"little\",\"shape\":[50]},\"principal component 2\":{\"__ndarray__\":\"W+9787ku4D/wF8lWE/nkv2zYpqjuYdS/CSSQjGlp4r/P0afLsZflP7O+IZP5S/g/ViSoGooWsz9teXQ10LHPP8kIOjG4hfG/hE6pnFa23L9iMKXTKCHxPzO/qP2XTMQ/o6o3kBix5r9+iXLvZwbuv86ryBtaPf4/jbWrfGrHBUBYjF03Ujj4PzD+/04udeA/60k0V9Tl9j8lpZIPTofyP1zAlsG9jNs/1vKSxId67j9Fu+o4P1TfPxnWDBwFVLs/Uu1BJITCxD+1YRod23Pjv2mqjuRgBtE/Z4xIfx6q4T/QGaA2hIvVP1ZBWpX4JtS/PwayRej43r/6lh54QH/cP7NxJTRvQf0/wLJwma57AUCETqmcVrbcvyLn16FhmMe/peVDvSnr5T+ETqmcVrbcv23EP1q7Ouy/b0SP1gm80j9KwmaGk/PdP3t/28YcnwLAle8l3FML3b9issu+Q9XfP+zeGJkvvvI/94wv2S8k5r9QqsG4/WjyP8mttwhpMde/cu6vZGBo8D+47UmWeoGgPw==\",\"dtype\":\"float64\",\"order\":\"little\",\"shape\":[50]},\"principal_component_1\":{\"__ndarray__\":\"PBG/DcgdAsCeflXa/7AAwC4tSgGQ8QLArHjV6/5uAsB8OOBfNxwDwK8JAJp1kADA6lhZG9GQA8C3vPx66N4BwLjvZ05UvALA4dUzb2iCAcDEACQK0k4BwH2PWzp4ngLAakHW4evKAcBwYBiPIx4FwN5kYiHQiQHA6cLFMQADAsC/icmkO58BwNLnRqd8hQHADbKL2CBO/r9tMd43N7gCwDUu6+IFov6/J3pNIB2jAcAiHszufzEGwHCyHOBnIP2/cG9EsmPTAcBlStBn+E//v+cJWiugagDAzhcE6nVYAcDx6Z27WB8BwCENM3l7JgLA3eURJwwoAcCuCNRTnk/9v3SUD3eZ3QTAxYxIYeyAA8Dh1TNvaIIBwATB4qBfsAHApwtPDPdaAMDh1TNvaIIBwJzdMoLUfAPAUiP02UddAcA54QHLzkoCwGBzDEaD8v2/Xflj5HF2BMD2iQQfsG3/v/eHnMYlEQHAnu7lFFWaAMDP+qMb0QwDwI9moB9/LwPAKZosq3LQAcDcjpZMy6UBwA==\",\"dtype\":\"float64\",\"order\":\"little\",\"shape\":[50]},\"principal_component_2\":{\"__ndarray__\":\"W+9787ku4D/wF8lWE/nkv2zYpqjuYdS/CSSQjGlp4r/P0afLsZflP7O+IZP5S/g/ViSoGooWsz9teXQ10LHPP8kIOjG4hfG/hE6pnFa23L9iMKXTKCHxPzO/qP2XTMQ/o6o3kBix5r9+iXLvZwbuv86ryBtaPf4/jbWrfGrHBUBYjF03Ujj4PzD+/04udeA/60k0V9Tl9j8lpZIPTofyP1zAlsG9jNs/1vKSxId67j9Fu+o4P1TfPxnWDBwFVLs/Uu1BJITCxD+1YRod23Pjv2mqjuRgBtE/Z4xIfx6q4T/QGaA2hIvVP1ZBWpX4JtS/PwayRej43r/6lh54QH/cP7NxJTRvQf0/wLJwma57AUCETqmcVrbcvyLn16FhmMe/peVDvSnr5T+ETqmcVrbcv23EP1q7Ouy/b0SP1gm80j9KwmaGk/PdP3t/28YcnwLAle8l3FML3b9issu+Q9XfP+zeGJkvvvI/94wv2S8k5r9QqsG4/WjyP8mttwhpMde/cu6vZGBo8D+47UmWeoGgPw==\",\"dtype\":\"float64\",\"order\":\"little\",\"shape\":[50]}},\"selected\":{\"id\":\"1046\"},\"selection_policy\":{\"id\":\"1060\"}},\"id\":\"1045\",\"type\":\"ColumnDataSource\"},{\"attributes\":{\"fill_alpha\":{\"value\":0.2},\"fill_color\":{\"value\":\"#fc4f30\"},\"hatch_alpha\":{\"value\":0.2},\"hatch_color\":{\"value\":\"#fc4f30\"},\"line_alpha\":{\"value\":0.2},\"line_color\":{\"value\":\"#fc4f30\"},\"size\":{\"value\":5.477225575051661},\"x\":{\"field\":\"principal component 1\"},\"y\":{\"field\":\"principal component 2\"}},\"id\":\"1071\",\"type\":\"Scatter\"},{\"attributes\":{},\"id\":\"1019\",\"type\":\"BasicTicker\"},{\"attributes\":{\"axis\":{\"id\":\"1018\"},\"coordinates\":null,\"grid_line_color\":null,\"group\":null,\"ticker\":null},\"id\":\"1021\",\"type\":\"Grid\"},{\"attributes\":{},\"id\":\"1107\",\"type\":\"UnionRenderers\"},{\"attributes\":{\"axis_label\":\"principal component 2\",\"coordinates\":null,\"formatter\":{\"id\":\"1043\"},\"group\":null,\"major_label_policy\":{\"id\":\"1044\"},\"ticker\":{\"id\":\"1023\"}},\"id\":\"1022\",\"type\":\"LinearAxis\"},{\"attributes\":{\"fill_alpha\":{\"value\":0.1},\"fill_color\":{\"value\":\"#e5ae38\"},\"hatch_alpha\":{\"value\":0.1},\"hatch_color\":{\"value\":\"#e5ae38\"},\"line_alpha\":{\"value\":0.1},\"line_color\":{\"value\":\"#e5ae38\"},\"size\":{\"value\":5.477225575051661},\"x\":{\"field\":\"principal component 1\"},\"y\":{\"field\":\"principal component 2\"}},\"id\":\"1092\",\"type\":\"Scatter\"},{\"attributes\":{\"axis\":{\"id\":\"1022\"},\"coordinates\":null,\"dimension\":1,\"grid_line_color\":null,\"group\":null,\"ticker\":null},\"id\":\"1025\",\"type\":\"Grid\"},{\"attributes\":{},\"id\":\"1043\",\"type\":\"BasicTickFormatter\"},{\"attributes\":{\"fill_alpha\":{\"value\":0.2},\"fill_color\":{\"value\":\"#e5ae38\"},\"hatch_alpha\":{\"value\":0.2},\"hatch_color\":{\"value\":\"#e5ae38\"},\"line_alpha\":{\"value\":0.2},\"line_color\":{\"value\":\"#e5ae38\"},\"size\":{\"value\":5.477225575051661},\"x\":{\"field\":\"principal component 1\"},\"y\":{\"field\":\"principal component 2\"}},\"id\":\"1093\",\"type\":\"Scatter\"},{\"attributes\":{},\"id\":\"1023\",\"type\":\"BasicTicker\"},{\"attributes\":{\"coordinates\":null,\"data_source\":{\"id\":\"1088\"},\"glyph\":{\"id\":\"1091\"},\"group\":null,\"hover_glyph\":null,\"muted_glyph\":{\"id\":\"1093\"},\"nonselection_glyph\":{\"id\":\"1092\"},\"selection_glyph\":{\"id\":\"1111\"},\"view\":{\"id\":\"1095\"}},\"id\":\"1094\",\"type\":\"GlyphRenderer\"},{\"attributes\":{},\"id\":\"1041\",\"type\":\"AllLabels\"},{\"attributes\":{\"coordinates\":null,\"data_source\":{\"id\":\"1066\"},\"glyph\":{\"id\":\"1069\"},\"group\":null,\"hover_glyph\":null,\"muted_glyph\":{\"id\":\"1071\"},\"nonselection_glyph\":{\"id\":\"1070\"},\"selection_glyph\":{\"id\":\"1087\"},\"view\":{\"id\":\"1073\"}},\"id\":\"1072\",\"type\":\"GlyphRenderer\"},{\"attributes\":{\"fill_alpha\":{\"value\":0.1},\"fill_color\":{\"value\":\"#30a2da\"},\"hatch_alpha\":{\"value\":0.1},\"hatch_color\":{\"value\":\"#30a2da\"},\"line_alpha\":{\"value\":0.1},\"line_color\":{\"value\":\"#30a2da\"},\"size\":{\"value\":5.477225575051661},\"x\":{\"field\":\"principal component 1\"},\"y\":{\"field\":\"principal component 2\"}},\"id\":\"1049\",\"type\":\"Scatter\"},{\"attributes\":{},\"id\":\"1026\",\"type\":\"SaveTool\"},{\"attributes\":{},\"id\":\"1027\",\"type\":\"PanTool\"},{\"attributes\":{},\"id\":\"1028\",\"type\":\"WheelZoomTool\"},{\"attributes\":{\"source\":{\"id\":\"1066\"}},\"id\":\"1073\",\"type\":\"CDSView\"},{\"attributes\":{\"fill_color\":{\"value\":\"#e5ae38\"},\"hatch_color\":{\"value\":\"#e5ae38\"},\"line_color\":{\"value\":\"#e5ae38\"},\"size\":{\"value\":5.477225575051661},\"x\":{\"field\":\"principal component 1\"},\"y\":{\"field\":\"principal component 2\"}},\"id\":\"1091\",\"type\":\"Scatter\"},{\"attributes\":{\"overlay\":{\"id\":\"1031\"}},\"id\":\"1029\",\"type\":\"BoxZoomTool\"},{\"attributes\":{},\"id\":\"1030\",\"type\":\"ResetTool\"},{\"attributes\":{\"end\":3.2604144520280895,\"reset_end\":3.2604144520280895,\"reset_start\":-3.1961060534153813,\"start\":-3.1961060534153813,\"tags\":[[[\"principal component 2\",\"principal component 2\",null]]]},\"id\":\"1005\",\"type\":\"Range1d\"},{\"attributes\":{\"fill_color\":{\"value\":\"#30a2da\"},\"hatch_color\":{\"value\":\"#30a2da\"},\"line_color\":{\"value\":\"#30a2da\"},\"size\":{\"value\":5.477225575051661},\"x\":{\"field\":\"principal component 1\"},\"y\":{\"field\":\"principal component 2\"}},\"id\":\"1048\",\"type\":\"Scatter\"},{\"attributes\":{\"angle\":{\"value\":0.0},\"fill_alpha\":{\"value\":1.0},\"fill_color\":{\"value\":\"#fc4f30\"},\"hatch_alpha\":{\"value\":1.0},\"hatch_color\":{\"value\":\"#fc4f30\"},\"hatch_scale\":{\"value\":12.0},\"hatch_weight\":{\"value\":1.0},\"line_alpha\":{\"value\":1.0},\"line_cap\":{\"value\":\"butt\"},\"line_color\":{\"value\":\"#fc4f30\"},\"line_dash\":{\"value\":[]},\"line_dash_offset\":{\"value\":0},\"line_join\":{\"value\":\"bevel\"},\"line_width\":{\"value\":1},\"marker\":{\"value\":\"circle\"},\"size\":{\"value\":5.477225575051661},\"x\":{\"field\":\"principal component 1\"},\"y\":{\"field\":\"principal component 2\"}},\"id\":\"1087\",\"type\":\"Scatter\"},{\"attributes\":{},\"id\":\"1060\",\"type\":\"UnionRenderers\"},{\"attributes\":{},\"id\":\"1067\",\"type\":\"Selection\"},{\"attributes\":{\"label\":{\"value\":\"1\"},\"renderers\":[{\"id\":\"1072\"}]},\"id\":\"1086\",\"type\":\"LegendItem\"},{\"attributes\":{\"source\":{\"id\":\"1045\"}},\"id\":\"1052\",\"type\":\"CDSView\"},{\"attributes\":{\"data\":{\"class\":[1,1,1,1,1,1,1,1,1,1,1,1,1,1,1,1,1,1,1,1,1,1,1,1,1,1,1,1,1,1,1,1,1,1,1,1,1,1,1,1,1,1,1,1,1,1,1,1,1,1,1,1,1,1,1,1,1,1,1,1,1],\"principal component 1\":{\"__ndarray__\":\"dBWMhntt2T9HnJZFWCnxP2GBHlf2mtg/9P4dZv7c379uGywXnaPtP96/kDZaWXQ/Kd6FPizsv7+sz+h8JxTcP1BNsk78puE/NkUqJwTz5j+7z63ghxOjv5Zu06S8RdY/07Iv7V2iwz9j6iTH4XHzPyHYZACmFsQ/Va1SDE473j8NyjX41qXzP4cxy7fjI+Q/GNCK7kVq5j9liRfXA/TrP+hho0lLEfQ/G4VVJyMw5T/xG9RSSDWovy8/fKzdHL8/Ro9YOQTqjD8S3+hlmjXOPwzNWUU16PA/mLCTKGVXzD/Mm78H9ZLwP6NeE5xXK7E/bjcDdZCg0T+/fckO8G3RP6KN/lcD8eM/r95L0c4e1T/PxBTVg+nXv9Mk5ZbCG9I/JV9tRC/Mtj/7I0IbubfMP/AERuZAXeI/34xQ67I/3b/bgNIAxiTQP9tfCCh3c/I/q5MD/NoE9z/ooUp+m+/WP/Mm68uNAwBAqBA5v8SV+T9Z9+RxpAz0PxjiiMbLbPc/90T6XU4Q9D+JYrcHUCrvP/CKpJpgRPU/X3z98B7A8j8c0u7vBVHwP5naFgd+k/w/Zi0H1BTE/T/c9mvcxMfxPyc2s2rVKPM/lb7xUMOM7T/bXwgod3PyP0XVWzGV7/g/NNkr7ZKy7j8=\",\"dtype\":\"float64\",\"order\":\"little\",\"shape\":[61]},\"principal component 2\":{\"__ndarray__\":\"jM0hw3Uh/L+WAFcJ4hrLv+gVlNb76eK/XpSza/eU/b84i2FUCw+fP+LLA01tePC/8IKEXbZDBcCS9gYTsCWuv0fNqHx+XPy/0nstxk+8x78nLLY26rLbv++9JkVKZsi/kInUeJ9N6b9g5T6HOSL6v7lAi9CC2fS/tQipiLWp2r9Er8dW+Rvuv+PFU70Krdq/MDfCViNBsL9OnvIgnAvQP0iIsEKXJrW/VhnYPl+3zL9mBRGQV+rwv2fCfHF5BPm/aNYvdp0s+b8/npAdXtTovwgtEs1+YeS/aG49mmj50b+7i7Pvikf2v3THaP8nN8u/OmcLDe1G9b8hCf6DO+nxv//FHdUiNJw/ZOvEJROl77/LwuSruSQAwJxLO3SQU+u/mY5GPmdjxr9E9kdU3FnYv4g6tZoYrcO/svvOiaWh+L+iehyOShHjv0IIW3ZDcea/WJQzq/qaqb8zlg29Jfb4v6+Qnq/nKee/ZX0vzm1o27+MMWiJoq3yv5mvYO3pbNy/TCp0Mjl7+785zVl8D0fivz9sHbAVJ9+/wNmJW81o1L+MqPtybMewP9e8S8Epvci/gIE7U1ijx7/4k4Cxb/HSv0av2/Y8Juq/tgBbUiCxkz9CCFt2Q3Hmv71a1TpU+Oy/jwksNprRlr8=\",\"dtype\":\"float64\",\"order\":\"little\",\"shape\":[61]},\"principal_component_1\":{\"__ndarray__\":\"dBWMhntt2T9HnJZFWCnxP2GBHlf2mtg/9P4dZv7c379uGywXnaPtP96/kDZaWXQ/Kd6FPizsv7+sz+h8JxTcP1BNsk78puE/NkUqJwTz5j+7z63ghxOjv5Zu06S8RdY/07Iv7V2iwz9j6iTH4XHzPyHYZACmFsQ/Va1SDE473j8NyjX41qXzP4cxy7fjI+Q/GNCK7kVq5j9liRfXA/TrP+hho0lLEfQ/G4VVJyMw5T/xG9RSSDWovy8/fKzdHL8/Ro9YOQTqjD8S3+hlmjXOPwzNWUU16PA/mLCTKGVXzD/Mm78H9ZLwP6NeE5xXK7E/bjcDdZCg0T+/fckO8G3RP6KN/lcD8eM/r95L0c4e1T/PxBTVg+nXv9Mk5ZbCG9I/JV9tRC/Mtj/7I0IbubfMP/AERuZAXeI/34xQ67I/3b/bgNIAxiTQP9tfCCh3c/I/q5MD/NoE9z/ooUp+m+/WP/Mm68uNAwBAqBA5v8SV+T9Z9+RxpAz0PxjiiMbLbPc/90T6XU4Q9D+JYrcHUCrvP/CKpJpgRPU/X3z98B7A8j8c0u7vBVHwP5naFgd+k/w/Zi0H1BTE/T/c9mvcxMfxPyc2s2rVKPM/lb7xUMOM7T/bXwgod3PyP0XVWzGV7/g/NNkr7ZKy7j8=\",\"dtype\":\"float64\",\"order\":\"little\",\"shape\":[61]},\"principal_component_2\":{\"__ndarray__\":\"jM0hw3Uh/L+WAFcJ4hrLv+gVlNb76eK/XpSza/eU/b84i2FUCw+fP+LLA01tePC/8IKEXbZDBcCS9gYTsCWuv0fNqHx+XPy/0nstxk+8x78nLLY26rLbv++9JkVKZsi/kInUeJ9N6b9g5T6HOSL6v7lAi9CC2fS/tQipiLWp2r9Er8dW+Rvuv+PFU70Krdq/MDfCViNBsL9OnvIgnAvQP0iIsEKXJrW/VhnYPl+3zL9mBRGQV+rwv2fCfHF5BPm/aNYvdp0s+b8/npAdXtTovwgtEs1+YeS/aG49mmj50b+7i7Pvikf2v3THaP8nN8u/OmcLDe1G9b8hCf6DO+nxv//FHdUiNJw/ZOvEJROl77/LwuSruSQAwJxLO3SQU+u/mY5GPmdjxr9E9kdU3FnYv4g6tZoYrcO/svvOiaWh+L+iehyOShHjv0IIW3ZDcea/WJQzq/qaqb8zlg29Jfb4v6+Qnq/nKee/ZX0vzm1o27+MMWiJoq3yv5mvYO3pbNy/TCp0Mjl7+785zVl8D0fivz9sHbAVJ9+/wNmJW81o1L+MqPtybMewP9e8S8Epvci/gIE7U1ijx7/4k4Cxb/HSv0av2/Y8Juq/tgBbUiCxkz9CCFt2Q3Hmv71a1TpU+Oy/jwksNprRlr8=\",\"dtype\":\"float64\",\"order\":\"little\",\"shape\":[61]}},\"selected\":{\"id\":\"1067\"},\"selection_policy\":{\"id\":\"1083\"}},\"id\":\"1066\",\"type\":\"ColumnDataSource\"},{\"attributes\":{\"end\":3.569854510235274,\"reset_end\":3.569854510235274,\"reset_start\":-3.034883121264352,\"start\":-3.034883121264352,\"tags\":[[[\"principal component 1\",\"principal component 1\",null]]]},\"id\":\"1004\",\"type\":\"Range1d\"},{\"attributes\":{\"label\":{\"value\":\"0\"},\"renderers\":[{\"id\":\"1051\"}]},\"id\":\"1064\",\"type\":\"LegendItem\"},{\"attributes\":{},\"id\":\"1089\",\"type\":\"Selection\"},{\"attributes\":{},\"id\":\"1040\",\"type\":\"BasicTickFormatter\"},{\"attributes\":{\"tools\":[{\"id\":\"1006\"},{\"id\":\"1026\"},{\"id\":\"1027\"},{\"id\":\"1028\"},{\"id\":\"1029\"},{\"id\":\"1030\"}]},\"id\":\"1032\",\"type\":\"Toolbar\"},{\"attributes\":{},\"id\":\"1083\",\"type\":\"UnionRenderers\"},{\"attributes\":{\"children\":[{\"id\":\"1003\"},{\"id\":\"1009\"},{\"id\":\"1126\"}],\"margin\":[0,0,0,0],\"name\":\"Row00927\",\"tags\":[\"embedded\"]},\"id\":\"1002\",\"type\":\"Row\"},{\"attributes\":{\"click_policy\":\"mute\",\"coordinates\":null,\"group\":null,\"items\":[{\"id\":\"1064\"},{\"id\":\"1086\"},{\"id\":\"1110\"}],\"location\":[0,0],\"title\":\"class\"},\"id\":\"1063\",\"type\":\"Legend\"}],\"root_ids\":[\"1002\"]},\"title\":\"Bokeh Application\",\"version\":\"2.4.3\"}};\n",
       "    var render_items = [{\"docid\":\"8074a4cd-3ffa-4ddb-847c-e6692d0021f2\",\"root_ids\":[\"1002\"],\"roots\":{\"1002\":\"8b3e02ac-1204-4393-a91d-7f81926d4a3d\"}}];\n",
       "    root.Bokeh.embed.embed_items_notebook(docs_json, render_items);\n",
       "  }\n",
       "  if (root.Bokeh !== undefined && root.Bokeh.Panel !== undefined) {\n",
       "    embed_document(root);\n",
       "  } else {\n",
       "    var attempts = 0;\n",
       "    var timer = setInterval(function(root) {\n",
       "      if (root.Bokeh !== undefined && root.Bokeh.Panel !== undefined) {\n",
       "        clearInterval(timer);\n",
       "        embed_document(root);\n",
       "      } else if (document.readyState == \"complete\") {\n",
       "        attempts++;\n",
       "        if (attempts > 200) {\n",
       "          clearInterval(timer);\n",
       "          console.log(\"Bokeh: ERROR: Unable to run BokehJS code because BokehJS library is missing\");\n",
       "        }\n",
       "      }\n",
       "    }, 25, root)\n",
       "  }\n",
       "})(window);</script>"
      ],
      "text/plain": [
       ":NdOverlay   [class]\n",
       "   :Scatter   [principal component 1]   (principal component 2,class)"
      ]
     },
     "execution_count": 32,
     "metadata": {
      "application/vnd.holoviews_exec.v0+json": {
       "id": "1002"
      }
     },
     "output_type": "execute_result"
    }
   ],
   "source": [
    "df_iris_pca.hvplot.scatter(\n",
    "    x=\"principal component 1\",\n",
    "    y=\"principal component 2\",\n",
    "    hover_cols=[\"class\"],\n",
    "    by=\"class\",\n",
    ")"
   ]
  },
  {
   "cell_type": "code",
   "execution_count": null,
   "id": "dede65bc",
   "metadata": {},
   "outputs": [],
   "source": []
  }
 ],
 "metadata": {
  "kernelspec": {
   "display_name": "PythonData",
   "language": "python",
   "name": "pythondata"
  },
  "language_info": {
   "codemirror_mode": {
    "name": "ipython",
    "version": 3
   },
   "file_extension": ".py",
   "mimetype": "text/x-python",
   "name": "python",
   "nbconvert_exporter": "python",
   "pygments_lexer": "ipython3",
   "version": "3.9.12"
  }
 },
 "nbformat": 4,
 "nbformat_minor": 5
}
